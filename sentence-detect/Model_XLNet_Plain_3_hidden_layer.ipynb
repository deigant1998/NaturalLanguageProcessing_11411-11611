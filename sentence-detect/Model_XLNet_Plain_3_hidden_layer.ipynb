{
  "cells": [
    {
      "cell_type": "code",
      "execution_count": 1,
      "metadata": {
        "colab": {
          "base_uri": "https://localhost:8080/"
        },
        "id": "Mg-pQNilaEiO",
        "outputId": "9b95e7bf-b7c1-4e0c-97c8-bd155049f061"
      },
      "outputs": [
        {
          "output_type": "stream",
          "name": "stdout",
          "text": [
            "Looking in indexes: https://pypi.org/simple, https://us-python.pkg.dev/colab-wheels/public/simple/\n",
            "Requirement already satisfied: transformers in /usr/local/lib/python3.7/dist-packages (4.23.1)\n",
            "Requirement already satisfied: tokenizers!=0.11.3,<0.14,>=0.11.1 in /usr/local/lib/python3.7/dist-packages (from transformers) (0.13.1)\n",
            "Requirement already satisfied: requests in /usr/local/lib/python3.7/dist-packages (from transformers) (2.23.0)\n",
            "Requirement already satisfied: tqdm>=4.27 in /usr/local/lib/python3.7/dist-packages (from transformers) (4.64.1)\n",
            "Requirement already satisfied: numpy>=1.17 in /usr/local/lib/python3.7/dist-packages (from transformers) (1.21.6)\n",
            "Requirement already satisfied: huggingface-hub<1.0,>=0.10.0 in /usr/local/lib/python3.7/dist-packages (from transformers) (0.10.1)\n",
            "Requirement already satisfied: filelock in /usr/local/lib/python3.7/dist-packages (from transformers) (3.8.0)\n",
            "Requirement already satisfied: packaging>=20.0 in /usr/local/lib/python3.7/dist-packages (from transformers) (21.3)\n",
            "Requirement already satisfied: regex!=2019.12.17 in /usr/local/lib/python3.7/dist-packages (from transformers) (2022.6.2)\n",
            "Requirement already satisfied: importlib-metadata in /usr/local/lib/python3.7/dist-packages (from transformers) (4.13.0)\n",
            "Requirement already satisfied: pyyaml>=5.1 in /usr/local/lib/python3.7/dist-packages (from transformers) (6.0)\n",
            "Requirement already satisfied: typing-extensions>=3.7.4.3 in /usr/local/lib/python3.7/dist-packages (from huggingface-hub<1.0,>=0.10.0->transformers) (4.1.1)\n",
            "Requirement already satisfied: pyparsing!=3.0.5,>=2.0.2 in /usr/local/lib/python3.7/dist-packages (from packaging>=20.0->transformers) (3.0.9)\n",
            "Requirement already satisfied: zipp>=0.5 in /usr/local/lib/python3.7/dist-packages (from importlib-metadata->transformers) (3.9.0)\n",
            "Requirement already satisfied: idna<3,>=2.5 in /usr/local/lib/python3.7/dist-packages (from requests->transformers) (2.10)\n",
            "Requirement already satisfied: certifi>=2017.4.17 in /usr/local/lib/python3.7/dist-packages (from requests->transformers) (2022.9.24)\n",
            "Requirement already satisfied: chardet<4,>=3.0.2 in /usr/local/lib/python3.7/dist-packages (from requests->transformers) (3.0.4)\n",
            "Requirement already satisfied: urllib3!=1.25.0,!=1.25.1,<1.26,>=1.21.1 in /usr/local/lib/python3.7/dist-packages (from requests->transformers) (1.24.3)\n"
          ]
        }
      ],
      "source": [
        "!pip install transformers"
      ]
    },
    {
      "cell_type": "code",
      "execution_count": 2,
      "metadata": {
        "colab": {
          "base_uri": "https://localhost:8080/"
        },
        "id": "VgZhnlA_agKs",
        "outputId": "a1ed5e03-b1ca-4e99-aa43-22b9d79451ed"
      },
      "outputs": [
        {
          "output_type": "stream",
          "name": "stdout",
          "text": [
            "Looking in indexes: https://pypi.org/simple, https://us-python.pkg.dev/colab-wheels/public/simple/\n",
            "Requirement already satisfied: SentencePiece in /usr/local/lib/python3.7/dist-packages (0.1.97)\n"
          ]
        }
      ],
      "source": [
        "!pip install SentencePiece"
      ]
    },
    {
      "cell_type": "code",
      "execution_count": 3,
      "metadata": {
        "id": "Mf12qQeDZ3d_"
      },
      "outputs": [],
      "source": [
        "from transformers import XLNetTokenizer, XLNetModel\n",
        "import torch.nn as nn\n",
        "from torch.optim import Adam\n",
        "import pandas as pd\n",
        "import torch\n",
        "import os\n",
        "import random\n",
        "import math\n",
        "import nltk\n",
        "from nltk.corpus import stopwords\n",
        "from torch.nn.functional import normalize\n",
        "import plotly.graph_objects as go\n",
        "from torch.autograd.grad_mode import no_grad"
      ]
    },
    {
      "cell_type": "code",
      "source": [
        "nltk.download('stopwords')"
      ],
      "metadata": {
        "colab": {
          "base_uri": "https://localhost:8080/"
        },
        "id": "WwSh92_F5OYb",
        "outputId": "02f3f20a-e60e-4b2d-bfd0-37a9195870f1"
      },
      "execution_count": 4,
      "outputs": [
        {
          "output_type": "stream",
          "name": "stderr",
          "text": [
            "[nltk_data] Downloading package stopwords to /root/nltk_data...\n",
            "[nltk_data]   Package stopwords is already up-to-date!\n"
          ]
        },
        {
          "output_type": "execute_result",
          "data": {
            "text/plain": [
              "True"
            ]
          },
          "metadata": {},
          "execution_count": 4
        }
      ]
    },
    {
      "cell_type": "code",
      "execution_count": 5,
      "metadata": {
        "id": "6OJlxxo6fOmf"
      },
      "outputs": [],
      "source": [
        "sw_nltk = stopwords.words('english')"
      ]
    },
    {
      "cell_type": "code",
      "execution_count": 6,
      "metadata": {
        "id": "YNS83ldobPNe"
      },
      "outputs": [],
      "source": [
        "def optimizer_to(optim, device):\n",
        "    for param in optim.state.values():\n",
        "        # Not sure there are any global tensors in the state dict\n",
        "        if isinstance(param, torch.Tensor):\n",
        "            param.data = param.data.to(device)\n",
        "            if param._grad is not None:\n",
        "                param._grad.data = param._grad.data.to(device)\n",
        "        elif isinstance(param, dict):\n",
        "            for subparam in param.values():\n",
        "                if isinstance(subparam, torch.Tensor):\n",
        "                    subparam.data = subparam.data.to(device)\n",
        "                    if subparam._grad is not None:\n",
        "                        subparam._grad.data = subparam._grad.data.to(device)"
      ]
    },
    {
      "cell_type": "code",
      "execution_count": 7,
      "metadata": {
        "id": "VnRwXLV-ct3T"
      },
      "outputs": [],
      "source": [
        "class SentenceDetectionModel(nn.Module):\n",
        "    def __init__(self, num_sentences, train_data_file):\n",
        "        super(SentenceDetectionModel, self).__init__()\n",
        "        self.num_sentences = num_sentences\n",
        "        self.embedding_size = 768\n",
        "        \n",
        "        self.tokenizer = XLNetTokenizer.from_pretrained(\"xlnet-base-cased\", do_lower_case=True)\n",
        "        self.xlnetModel = XLNetModel.from_pretrained('xlnet-base-cased').to(torch.device(\"cuda:0\"), dtype=torch.float, non_blocking=True)\n",
        "        #self.multi_head_attention_sentences = nn.ModuleList([nn.MultiheadAttention(self.embedding_size, 8).to(torch.device(\"cuda:0\"), dtype=torch.float, non_blocking=True) for i in range(10)])\n",
        "        #self.multi_head_attention_inter_sentence = nn.MultiheadAttention(self.embedding_size, 16).to(torch.device(\"cuda:0\"), dtype=torch.float, non_blocking=True)\n",
        "        \n",
        "        self.hidden = nn.Linear((self.num_sentences) * self.embedding_size, 4000, bias=True).to(torch.device(\"cuda:0\"), dtype=torch.float, non_blocking=True)\n",
        "        self.activation = nn.Tanh().to(torch.device(\"cuda:0\"), dtype=torch.float, non_blocking=True);\n",
        "        self.dropout = nn.Dropout(0.5).to(torch.device(\"cuda:0\"), dtype=torch.float, non_blocking=True);\n",
        "        \n",
        "        self.hidden1 = nn.Linear(4000, 2000, bias=True).to(torch.device(\"cuda:0\"), dtype=torch.float, non_blocking=True)\n",
        "        self.activation1 = nn.Tanh().to(torch.device(\"cuda:0\"), dtype=torch.float, non_blocking=True);\n",
        "        self.dropout1 = nn.Dropout(0.1).to(torch.device(\"cuda:0\"), dtype=torch.float, non_blocking=True);\n",
        "\n",
        "        self.hidden2 = nn.Linear(2000, 1000, bias=True).to(torch.device(\"cuda:0\"), dtype=torch.float, non_blocking=True)\n",
        "        self.activation2 = nn.Tanh().to(torch.device(\"cuda:0\"), dtype=torch.float, non_blocking=True);\n",
        "        self.dropout2 = nn.Dropout(0.1).to(torch.device(\"cuda:0\"), dtype=torch.float, non_blocking=True);\n",
        "\n",
        "        self.hidden3 = nn.Linear(1000, 100, bias=True).to(torch.device(\"cuda:0\"), dtype=torch.float, non_blocking=True)\n",
        "        self.activation3 = nn.Tanh().to(torch.device(\"cuda:0\"), dtype=torch.float, non_blocking=True);\n",
        "        self.dropout3 = nn.Dropout(0.1).to(torch.device(\"cuda:0\"), dtype=torch.float, non_blocking=True);\n",
        "\n",
        "        self.out = nn.Linear(100, self.num_sentences, bias=True).to(torch.device(\"cuda:0\"), dtype=torch.float, non_blocking=True)\n",
        "        self.softmax = nn.Softmax(-1).to(torch.device(\"cuda:0\"), dtype=torch.float, non_blocking=True)\n",
        "\n",
        "        #Freeze the parameters of the model.\n",
        "        #for param in self.xlnetModel.base_model.parameters():\n",
        "            #param.requires_grad = False\n",
        "\n",
        "        data = self.extract_data_from_file(train_data_file)\n",
        "        random.shuffle(data)\n",
        "        train_size = math.floor(0.8*len(data))\n",
        "        val_size = math.floor(0.1*len(data))\n",
        "        train, val ,test = data[:train_size], data[train_size:train_size+val_size], data[train_size+val_size:]\n",
        "        self.train_dataset = train\n",
        "        self.test_dataset = test\n",
        "        self.validation_dataset = val\n",
        "        self.validation_error = []\n",
        "        self.train_error = []\n",
        "             \n",
        "    def get_train_dataset(self):\n",
        "      return self.train_dataset\n",
        "    def get_test_dataset(self):\n",
        "      return self.test_dataset\n",
        "\n",
        "    def forward(self, input):\n",
        "        device = \"cuda:0\" if torch.cuda.is_available() else \"cpu\"\n",
        "        input = input.to(device)\n",
        "        model_outputs = self.xlnetModel(**input)\n",
        "\n",
        "        sentence_section_output = model_outputs.last_hidden_state[:, 0:480, :]\n",
        "        sentence_embeddings = torch.zeros((1, self.num_sentences, self.embedding_size))\n",
        "        \n",
        "        #cls_tensor = model_outputs.last_hidden_state[:,514,:]\n",
        "        #cls_tensor = cls_tensor.to('cuda:0')\n",
        "        \n",
        "        for i in range(self.num_sentences):\n",
        "            sentence_start = (i*48)\n",
        "            sentence_end = ((i+1)*48)\n",
        "            sentence = sentence_section_output[:,  sentence_start:sentence_end  , :];\n",
        "            #sentence = sentence.half()\n",
        "            sentence = sentence.to('cuda:0').float()\n",
        "            #sentence_attention_tensor = normalize(sentence + self.multi_head_attention_sentences[i](sentence,sentence,sentence)[0], p=2)\n",
        "            sentence_tensor = torch.mean(sentence, 1)\n",
        "            sentence_embeddings[0][i] = sentence_tensor\n",
        "      \n",
        "        \n",
        "        \n",
        "        sentence_embeddings = sentence_embeddings.to('cuda:0').float()\n",
        "        #concat_sentence_cls = torch.cat((sentence_embeddings, \n",
        "        #                                      cls_tensor.reshape(1, cls_tensor.shape[0], \n",
        "        #                                                             cls_tensor.shape[1])), dim=1)\n",
        "        \n",
        "        #print(question_tensor.reshape(1, question_tensor.shape[0],question_tensor.shape[1]).shape)\n",
        "        #print(sentence_embeddings.shape)\n",
        "        #sentence_embeddings = sentence_embeddings.to(torch.float16)\n",
        "        #concat_sentence_attention = normalize(sentence_embeddings + self.multi_head_attention_inter_sentence(sentence_embeddings, sentence_embeddings,sentence_embeddings)[0], p=2)\n",
        "        \n",
        "        hidden = self.dropout(self.activation(self.hidden(\n",
        "            sentence_embeddings.reshape(1, (self.num_sentences) * self.embedding_size))))\n",
        "        hidden1 = self.dropout1(self.activation1(self.hidden1(hidden)))\n",
        "        hidden2 = self.dropout2(self.activation2(self.hidden2(hidden1)))\n",
        "        hidden3 = self.dropout3(self.activation3(self.hidden3(hidden2)))\n",
        "        #hidden1 = self.dropout1(self.activation1(self.hidden1(hidden)))\n",
        "        \n",
        "        output = self.out(hidden3)\n",
        "        classification = self.softmax(output)\n",
        "        return classification\n",
        "        \n",
        "    def train_model(self, epochs):\n",
        "        \n",
        "        #some code borrowed from https://pytorch.org/tutorials/beginner/blitz/cifar10_tutorial.html\n",
        "        train_data = self.train_dataset\n",
        "        loss_function = nn.BCELoss(reduction='sum')\n",
        "        optimiser = Adam(self.parameters(), lr=2e-5)\n",
        "        optimizer_to(optimiser, \"cuda:0\")\n",
        "        \n",
        "        for i in range(epochs):\n",
        "            running_loss = 0\n",
        "            print(\"starting epoch \" + str(i))\n",
        "            random.shuffle(train_data)\n",
        "            \n",
        "            self.train()\n",
        "            net_train_loss = 0;\n",
        "            for index, ((question, sentences), (data, label)) in enumerate(train_data):\n",
        "                optimiser.zero_grad()\n",
        "                \n",
        "                out = self(data)\n",
        "                label = label.to(\"cuda:0\")\n",
        "                loss = loss_function(out, label)\n",
        "                #print(out)\n",
        "                loss.backward()\n",
        "                optimiser.step()\n",
        "                #print(self.output.parameters)\n",
        "                \n",
        "                running_loss += loss.item()\n",
        "                net_train_loss += loss.item()\n",
        "                if index % 10 == 9:    # print every 10 mini-batches\n",
        "                    print(f'[{index + 1}, {index + 1:5d}] loss: {running_loss / 10:.3f}')\n",
        "                    running_loss = 0.0\n",
        "            \n",
        "            self.train_error.append(net_train_loss)\n",
        "            self.eval()\n",
        "            with no_grad():\n",
        "              net_loss = 0;\n",
        "              for index, ((question, sentences), (data, label)) in enumerate(self.validation_dataset):\n",
        "                output = self(data)\n",
        "                label = label.to(\"cuda:0\")\n",
        "                loss = loss_function(out, label)\n",
        "                net_loss = net_loss + loss.item()\n",
        "              self.validation_error.append(net_loss)\n",
        "              print(\"Validation : \" + str(net_loss))\n",
        "    \n",
        "    def tokenize_sentences(self, sentences, question):\n",
        "        tokenized_question = self.tokenizer(question, max_length = 32, padding = 'max_length', truncation = True, add_special_tokens=False, return_tensors='pt')\n",
        "        tokenized_sentences = self.tokenizer(sentences, max_length = 48, padding = 'max_length', truncation = True, add_special_tokens=False, return_tensors='pt')\n",
        "        tokenized_sentences['input_ids'] = tokenized_sentences.input_ids.reshape(1, tokenized_sentences.input_ids.shape[0] * tokenized_sentences.input_ids.shape[1])\n",
        "        tokenized_sentences['token_type_ids'] = tokenized_sentences.token_type_ids.reshape(1, tokenized_sentences.token_type_ids.shape[0] * tokenized_sentences.token_type_ids.shape[1])\n",
        "        tokenized_sentences['attention_mask'] = tokenized_sentences.attention_mask.reshape(1, tokenized_sentences.attention_mask.shape[0] * tokenized_sentences.attention_mask.shape[1])\n",
        "        tokenized_sentences['input_ids'] = torch.cat((tokenized_sentences['input_ids'], self.tokenizer(\"\", return_tensors='pt').input_ids[:,0].reshape(1,1)), dim = 1)\n",
        "        tokenized_sentences['token_type_ids'] = torch.cat((tokenized_sentences['token_type_ids'], torch.tensor([[0]])), dim = 1)\n",
        "        tokenized_sentences['attention_mask'] = torch.cat((tokenized_sentences['attention_mask'], torch.tensor([[1]])), dim = 1)\n",
        "        tokenized_sentences['input_ids'] = torch.cat((tokenized_sentences['input_ids'], tokenized_question.input_ids), dim=1)\n",
        "        tokenized_sentences['attention_mask'] = torch.cat((tokenized_sentences['attention_mask'], tokenized_question.attention_mask), dim=1)\n",
        "        tokenized_question.token_type_ids[tokenized_question.token_type_ids == 0] = 1\n",
        "        tokenized_sentences['token_type_ids'] = torch.cat((tokenized_sentences['token_type_ids'], tokenized_question.token_type_ids), dim=1)\n",
        "        tokenized_sentences['input_ids'] = torch.cat((tokenized_sentences['input_ids'], self.tokenizer(\"\", return_tensors='pt').input_ids), dim = 1)\n",
        "        tokenized_sentences['token_type_ids'] = torch.cat((tokenized_sentences['token_type_ids'], torch.tensor([[1,2]])), dim = 1)\n",
        "        tokenized_sentences['attention_mask'] = torch.cat((tokenized_sentences['attention_mask'], self.tokenizer(\"\", return_tensors='pt').attention_mask), dim = 1)\n",
        "        return tokenized_sentences\n",
        "\n",
        "          \n",
        "    def extract_data_from_file(self, file_path):\n",
        "        data = pd.read_excel(file_path)\n",
        "        train_data = []\n",
        "        for row in data.iloc:\n",
        "            labels = row[\"Valid Sentences\"]\n",
        "            label_tensor = torch.zeros(10)\n",
        "            for label in str(labels).split(\",\"):\n",
        "                parsed_label = int(label.strip())\n",
        "                label_tensor[parsed_label] = 1\n",
        "            label_tensor = label_tensor.reshape(1, 10) \n",
        "\n",
        "            question = row[\"question\"]\n",
        "            #question = \" \".join([word for word in question.split() if word.lower() not in sw_nltk])\n",
        "\n",
        "            sentences = []\n",
        "            for sent in str(row[\"Passage (10 sentences)\"]).split('\\n'):\n",
        "              #processed_words = [word for word in sent.split() if word.lower() not in sw_nltk]\n",
        "              #sent = \" \".join(processed_words)\n",
        "              sentences.append(sent)\n",
        "                \n",
        "            if(len(sentences) != 10):\n",
        "                print(sentences)\n",
        "                raise(\"Invalid number of sentences\")\n",
        "            \n",
        "            #sentence_label_list = [(sentences[0:5], label_tensor[: , 0:5]), (sentences[5:], label_tensor[:, 5:])]\n",
        "          \n",
        "\n",
        "            #for sentence, label in sentence_label_list:\n",
        "            #  if(1 not in label):\n",
        "            #    continue;\n",
        "\n",
        "            datapoint = ((question, sentences), (self.tokenize_sentences(sentences, question), label_tensor))\n",
        "            train_data.append(datapoint)\n",
        "        return train_data"
      ]
    },
    {
      "cell_type": "code",
      "execution_count": 8,
      "metadata": {
        "colab": {
          "base_uri": "https://localhost:8080/"
        },
        "id": "HzAnBN0maUWR",
        "outputId": "aefb047c-99f6-434a-8094-c1cae9f16485"
      },
      "outputs": [
        {
          "output_type": "stream",
          "name": "stderr",
          "text": [
            "Some weights of the model checkpoint at xlnet-base-cased were not used when initializing XLNetModel: ['lm_loss.bias', 'lm_loss.weight']\n",
            "- This IS expected if you are initializing XLNetModel from the checkpoint of a model trained on another task or with another architecture (e.g. initializing a BertForSequenceClassification model from a BertForPreTraining model).\n",
            "- This IS NOT expected if you are initializing XLNetModel from the checkpoint of a model that you expect to be exactly identical (initializing a BertForSequenceClassification model from a BertForSequenceClassification model).\n"
          ]
        }
      ],
      "source": [
        "sentenceDetection = SentenceDetectionModel(10, \"/content/Book3.xlsx\")\n",
        "\n",
        "#sentenceDetection.load_state_dict(torch.load(\"/content/Model_plain_3_hidden_layer_5_epoch.pt\"))\n",
        "\n",
        "#data = data.to(device)\n"
      ]
    },
    {
      "cell_type": "code",
      "source": [
        "sentenceDetection.validation_dataset[10][0]"
      ],
      "metadata": {
        "id": "JsLC3psR5mDe",
        "colab": {
          "base_uri": "https://localhost:8080/"
        },
        "outputId": "72b4f276-f787-4cc5-d3a6-682f69566174"
      },
      "execution_count": 9,
      "outputs": [
        {
          "output_type": "execute_result",
          "data": {
            "text/plain": [
              "('In which script is Urdu written?',\n",
              " ['Hindi is also spoken by a large population of Madheshis (people having roots in north-India but having migrated to Nepal over hundreds of years) of Nepal.',\n",
              "  'Apart from this, Hindi is spoken by the large Indian diaspora which hails from, or has its origin from the \"Hindi Belt\" of India.',\n",
              "  'A substantially large North Indian diaspora lives in countries like the United States of America, the United Kingdom, the United Arab Emirates, Trinidad and Tobago, Guyana, Suriname, South Africa, Fiji and Mauritius, where it is natively spoken at home and among their own Hindustani-speaking communities.',\n",
              "  'Outside India, Hindi speakers are 8 million in Nepal; 863,077 in United States of America; 450,170 in Mauritius; 380,000 in Fiji; 250,292 in South Africa; 150,000 in Suriname; 100,000 in Uganda; 45,800 in United Kingdom; 20,000 in New Zealand; 20,000 in Germany; 26,000 in Trinidad and Tobago; 3,000 in Singapore.',\n",
              "  '==. Comparison with Modern Standard Urdu ==.',\n",
              "  'Linguistically, Hindi and Urdu are two registers of the same language and are mutually intelligible.',\n",
              "  'Both Hindi & Urdu share a core vocabulary of native Prakrit and Sanskrit-derived words.',\n",
              "  'However, Hindi is written in the Devanagari script and contains more Sanskrit-derived words than Urdu, whereas Urdu is written in the Perso-Arabic script and uses more Arabic and Persian loanwords compared to Hindi.',\n",
              "  'Because of this, as well as the fact that the two registers share an identical grammar, a consensus of linguists consider them to be two standardised forms of the same language, Hindustani or Hindi-Urdu.',\n",
              "  'Hindi is the most commonly used official language in India.'])"
            ]
          },
          "metadata": {},
          "execution_count": 9
        }
      ]
    },
    {
      "cell_type": "code",
      "execution_count": 90,
      "metadata": {
        "id": "MlAq7obteWjY",
        "colab": {
          "base_uri": "https://localhost:8080/"
        },
        "outputId": "2b47e825-a0b4-4f23-e1a3-9e3097b5a98e"
      },
      "outputs": [
        {
          "output_type": "stream",
          "name": "stdout",
          "text": [
            "starting epoch 0\n",
            "[10,    10] loss: 0.419\n",
            "[20,    20] loss: 1.540\n",
            "[30,    30] loss: 0.952\n",
            "[40,    40] loss: 0.090\n",
            "[50,    50] loss: 1.859\n",
            "[60,    60] loss: 0.996\n",
            "[70,    70] loss: 0.760\n",
            "[80,    80] loss: 0.356\n",
            "[90,    90] loss: 0.375\n",
            "[100,   100] loss: 0.627\n",
            "[110,   110] loss: 0.600\n",
            "[120,   120] loss: 0.546\n",
            "[130,   130] loss: 0.839\n",
            "[140,   140] loss: 0.950\n",
            "[150,   150] loss: 0.433\n",
            "[160,   160] loss: 0.427\n",
            "[170,   170] loss: 0.421\n",
            "[180,   180] loss: 0.680\n",
            "[190,   190] loss: 0.071\n",
            "[200,   200] loss: 0.409\n",
            "[210,   210] loss: 0.668\n",
            "[220,   220] loss: 0.696\n",
            "[230,   230] loss: 1.671\n",
            "[240,   240] loss: 0.074\n",
            "Validation : 325.12775526195765\n"
          ]
        }
      ],
      "source": [
        "sentenceDetection.train_model(1)"
      ]
    },
    {
      "cell_type": "code",
      "source": [
        "import numpy as np;\n",
        "\n",
        "fig = go.Figure()\n",
        "\n",
        "fig.add_trace(\n",
        "    go.Scatter(\n",
        "    x=np.arange(len(sentenceDetection.validation_error)),\n",
        "    y=sentenceDetection.validation_error,\n",
        "    name=\"validation_error\"\n",
        "    )\n",
        "    )\n",
        "\n",
        "fig.add_trace(\n",
        "    go.Scatter(\n",
        "    x=np.arange(len(sentenceDetection.validation_error)),\n",
        "    y=sentenceDetection.train_error,\n",
        "    name=\"train_error\"\n",
        "    )\n",
        "    )\n",
        "\n",
        "fig.update_layout(\n",
        "    xaxis_title=\"Epoch\",\n",
        "    yaxis_title=\"Error\",\n",
        "    font=dict(\n",
        "        family=\"Courier New, monospace\",\n",
        "        size=18,\n",
        "        color=\"#7f7f7f\"\n",
        "    )\n",
        ")\n",
        "fig.show()"
      ],
      "metadata": {
        "colab": {
          "base_uri": "https://localhost:8080/",
          "height": 542
        },
        "id": "9q7AofRgVvVH",
        "outputId": "9c4f37d8-966c-4ca6-fe42-f328dec5c935"
      },
      "execution_count": 91,
      "outputs": [
        {
          "output_type": "display_data",
          "data": {
            "text/html": [
              "<html>\n",
              "<head><meta charset=\"utf-8\" /></head>\n",
              "<body>\n",
              "    <div>            <script src=\"https://cdnjs.cloudflare.com/ajax/libs/mathjax/2.7.5/MathJax.js?config=TeX-AMS-MML_SVG\"></script><script type=\"text/javascript\">if (window.MathJax) {MathJax.Hub.Config({SVG: {font: \"STIX-Web\"}});}</script>                <script type=\"text/javascript\">window.PlotlyConfig = {MathJaxConfig: 'local'};</script>\n",
              "        <script src=\"https://cdn.plot.ly/plotly-2.8.3.min.js\"></script>                <div id=\"ebc273a2-068c-49be-8913-8f037d0037ff\" class=\"plotly-graph-div\" style=\"height:525px; width:100%;\"></div>            <script type=\"text/javascript\">                                    window.PLOTLYENV=window.PLOTLYENV || {};                                    if (document.getElementById(\"ebc273a2-068c-49be-8913-8f037d0037ff\")) {                    Plotly.newPlot(                        \"ebc273a2-068c-49be-8913-8f037d0037ff\",                        [{\"name\":\"validation_error\",\"x\":[0,1,2,3,4,5,6,7,8,9,10,11,12,13,14,15,16,17,18],\"y\":[117.4705319404602,117.86095094680786,134.26135635375977,165.65922087430954,164.58381390571594,194.5169499516487,173.86481365561485,134.9163146018982,249.27507039159536,236.33603809773922,212.57312780618668,170.03208923339844,220.8120878636837,233.39182808995247,172.34239494800568,272.2695588693023,271.9981854483485,188.1027431488037,325.12775526195765],\"type\":\"scatter\"},{\"name\":\"train_error\",\"x\":[0,1,2,3,4,5,6,7,8,9,10,11,12,13,14,15,16,17,18],\"y\":[937.9437053203583,901.7816098928452,654.2571148872375,439.22790744900703,395.5660967230797,317.30523070693016,295.5353694111109,265.7450612038374,235.2070937603712,220.90815552324057,215.3985137194395,215.86235301196575,201.41168569028378,191.58420688658953,175.72417249158025,182.81452931463718,168.26921854540706,167.03155865892768,164.5792213138193],\"type\":\"scatter\"}],                        {\"template\":{\"data\":{\"bar\":[{\"error_x\":{\"color\":\"#2a3f5f\"},\"error_y\":{\"color\":\"#2a3f5f\"},\"marker\":{\"line\":{\"color\":\"#E5ECF6\",\"width\":0.5},\"pattern\":{\"fillmode\":\"overlay\",\"size\":10,\"solidity\":0.2}},\"type\":\"bar\"}],\"barpolar\":[{\"marker\":{\"line\":{\"color\":\"#E5ECF6\",\"width\":0.5},\"pattern\":{\"fillmode\":\"overlay\",\"size\":10,\"solidity\":0.2}},\"type\":\"barpolar\"}],\"carpet\":[{\"aaxis\":{\"endlinecolor\":\"#2a3f5f\",\"gridcolor\":\"white\",\"linecolor\":\"white\",\"minorgridcolor\":\"white\",\"startlinecolor\":\"#2a3f5f\"},\"baxis\":{\"endlinecolor\":\"#2a3f5f\",\"gridcolor\":\"white\",\"linecolor\":\"white\",\"minorgridcolor\":\"white\",\"startlinecolor\":\"#2a3f5f\"},\"type\":\"carpet\"}],\"choropleth\":[{\"colorbar\":{\"outlinewidth\":0,\"ticks\":\"\"},\"type\":\"choropleth\"}],\"contour\":[{\"colorbar\":{\"outlinewidth\":0,\"ticks\":\"\"},\"colorscale\":[[0.0,\"#0d0887\"],[0.1111111111111111,\"#46039f\"],[0.2222222222222222,\"#7201a8\"],[0.3333333333333333,\"#9c179e\"],[0.4444444444444444,\"#bd3786\"],[0.5555555555555556,\"#d8576b\"],[0.6666666666666666,\"#ed7953\"],[0.7777777777777778,\"#fb9f3a\"],[0.8888888888888888,\"#fdca26\"],[1.0,\"#f0f921\"]],\"type\":\"contour\"}],\"contourcarpet\":[{\"colorbar\":{\"outlinewidth\":0,\"ticks\":\"\"},\"type\":\"contourcarpet\"}],\"heatmap\":[{\"colorbar\":{\"outlinewidth\":0,\"ticks\":\"\"},\"colorscale\":[[0.0,\"#0d0887\"],[0.1111111111111111,\"#46039f\"],[0.2222222222222222,\"#7201a8\"],[0.3333333333333333,\"#9c179e\"],[0.4444444444444444,\"#bd3786\"],[0.5555555555555556,\"#d8576b\"],[0.6666666666666666,\"#ed7953\"],[0.7777777777777778,\"#fb9f3a\"],[0.8888888888888888,\"#fdca26\"],[1.0,\"#f0f921\"]],\"type\":\"heatmap\"}],\"heatmapgl\":[{\"colorbar\":{\"outlinewidth\":0,\"ticks\":\"\"},\"colorscale\":[[0.0,\"#0d0887\"],[0.1111111111111111,\"#46039f\"],[0.2222222222222222,\"#7201a8\"],[0.3333333333333333,\"#9c179e\"],[0.4444444444444444,\"#bd3786\"],[0.5555555555555556,\"#d8576b\"],[0.6666666666666666,\"#ed7953\"],[0.7777777777777778,\"#fb9f3a\"],[0.8888888888888888,\"#fdca26\"],[1.0,\"#f0f921\"]],\"type\":\"heatmapgl\"}],\"histogram\":[{\"marker\":{\"pattern\":{\"fillmode\":\"overlay\",\"size\":10,\"solidity\":0.2}},\"type\":\"histogram\"}],\"histogram2d\":[{\"colorbar\":{\"outlinewidth\":0,\"ticks\":\"\"},\"colorscale\":[[0.0,\"#0d0887\"],[0.1111111111111111,\"#46039f\"],[0.2222222222222222,\"#7201a8\"],[0.3333333333333333,\"#9c179e\"],[0.4444444444444444,\"#bd3786\"],[0.5555555555555556,\"#d8576b\"],[0.6666666666666666,\"#ed7953\"],[0.7777777777777778,\"#fb9f3a\"],[0.8888888888888888,\"#fdca26\"],[1.0,\"#f0f921\"]],\"type\":\"histogram2d\"}],\"histogram2dcontour\":[{\"colorbar\":{\"outlinewidth\":0,\"ticks\":\"\"},\"colorscale\":[[0.0,\"#0d0887\"],[0.1111111111111111,\"#46039f\"],[0.2222222222222222,\"#7201a8\"],[0.3333333333333333,\"#9c179e\"],[0.4444444444444444,\"#bd3786\"],[0.5555555555555556,\"#d8576b\"],[0.6666666666666666,\"#ed7953\"],[0.7777777777777778,\"#fb9f3a\"],[0.8888888888888888,\"#fdca26\"],[1.0,\"#f0f921\"]],\"type\":\"histogram2dcontour\"}],\"mesh3d\":[{\"colorbar\":{\"outlinewidth\":0,\"ticks\":\"\"},\"type\":\"mesh3d\"}],\"parcoords\":[{\"line\":{\"colorbar\":{\"outlinewidth\":0,\"ticks\":\"\"}},\"type\":\"parcoords\"}],\"pie\":[{\"automargin\":true,\"type\":\"pie\"}],\"scatter\":[{\"marker\":{\"colorbar\":{\"outlinewidth\":0,\"ticks\":\"\"}},\"type\":\"scatter\"}],\"scatter3d\":[{\"line\":{\"colorbar\":{\"outlinewidth\":0,\"ticks\":\"\"}},\"marker\":{\"colorbar\":{\"outlinewidth\":0,\"ticks\":\"\"}},\"type\":\"scatter3d\"}],\"scattercarpet\":[{\"marker\":{\"colorbar\":{\"outlinewidth\":0,\"ticks\":\"\"}},\"type\":\"scattercarpet\"}],\"scattergeo\":[{\"marker\":{\"colorbar\":{\"outlinewidth\":0,\"ticks\":\"\"}},\"type\":\"scattergeo\"}],\"scattergl\":[{\"marker\":{\"colorbar\":{\"outlinewidth\":0,\"ticks\":\"\"}},\"type\":\"scattergl\"}],\"scattermapbox\":[{\"marker\":{\"colorbar\":{\"outlinewidth\":0,\"ticks\":\"\"}},\"type\":\"scattermapbox\"}],\"scatterpolar\":[{\"marker\":{\"colorbar\":{\"outlinewidth\":0,\"ticks\":\"\"}},\"type\":\"scatterpolar\"}],\"scatterpolargl\":[{\"marker\":{\"colorbar\":{\"outlinewidth\":0,\"ticks\":\"\"}},\"type\":\"scatterpolargl\"}],\"scatterternary\":[{\"marker\":{\"colorbar\":{\"outlinewidth\":0,\"ticks\":\"\"}},\"type\":\"scatterternary\"}],\"surface\":[{\"colorbar\":{\"outlinewidth\":0,\"ticks\":\"\"},\"colorscale\":[[0.0,\"#0d0887\"],[0.1111111111111111,\"#46039f\"],[0.2222222222222222,\"#7201a8\"],[0.3333333333333333,\"#9c179e\"],[0.4444444444444444,\"#bd3786\"],[0.5555555555555556,\"#d8576b\"],[0.6666666666666666,\"#ed7953\"],[0.7777777777777778,\"#fb9f3a\"],[0.8888888888888888,\"#fdca26\"],[1.0,\"#f0f921\"]],\"type\":\"surface\"}],\"table\":[{\"cells\":{\"fill\":{\"color\":\"#EBF0F8\"},\"line\":{\"color\":\"white\"}},\"header\":{\"fill\":{\"color\":\"#C8D4E3\"},\"line\":{\"color\":\"white\"}},\"type\":\"table\"}]},\"layout\":{\"annotationdefaults\":{\"arrowcolor\":\"#2a3f5f\",\"arrowhead\":0,\"arrowwidth\":1},\"autotypenumbers\":\"strict\",\"coloraxis\":{\"colorbar\":{\"outlinewidth\":0,\"ticks\":\"\"}},\"colorscale\":{\"diverging\":[[0,\"#8e0152\"],[0.1,\"#c51b7d\"],[0.2,\"#de77ae\"],[0.3,\"#f1b6da\"],[0.4,\"#fde0ef\"],[0.5,\"#f7f7f7\"],[0.6,\"#e6f5d0\"],[0.7,\"#b8e186\"],[0.8,\"#7fbc41\"],[0.9,\"#4d9221\"],[1,\"#276419\"]],\"sequential\":[[0.0,\"#0d0887\"],[0.1111111111111111,\"#46039f\"],[0.2222222222222222,\"#7201a8\"],[0.3333333333333333,\"#9c179e\"],[0.4444444444444444,\"#bd3786\"],[0.5555555555555556,\"#d8576b\"],[0.6666666666666666,\"#ed7953\"],[0.7777777777777778,\"#fb9f3a\"],[0.8888888888888888,\"#fdca26\"],[1.0,\"#f0f921\"]],\"sequentialminus\":[[0.0,\"#0d0887\"],[0.1111111111111111,\"#46039f\"],[0.2222222222222222,\"#7201a8\"],[0.3333333333333333,\"#9c179e\"],[0.4444444444444444,\"#bd3786\"],[0.5555555555555556,\"#d8576b\"],[0.6666666666666666,\"#ed7953\"],[0.7777777777777778,\"#fb9f3a\"],[0.8888888888888888,\"#fdca26\"],[1.0,\"#f0f921\"]]},\"colorway\":[\"#636efa\",\"#EF553B\",\"#00cc96\",\"#ab63fa\",\"#FFA15A\",\"#19d3f3\",\"#FF6692\",\"#B6E880\",\"#FF97FF\",\"#FECB52\"],\"font\":{\"color\":\"#2a3f5f\"},\"geo\":{\"bgcolor\":\"white\",\"lakecolor\":\"white\",\"landcolor\":\"#E5ECF6\",\"showlakes\":true,\"showland\":true,\"subunitcolor\":\"white\"},\"hoverlabel\":{\"align\":\"left\"},\"hovermode\":\"closest\",\"mapbox\":{\"style\":\"light\"},\"paper_bgcolor\":\"white\",\"plot_bgcolor\":\"#E5ECF6\",\"polar\":{\"angularaxis\":{\"gridcolor\":\"white\",\"linecolor\":\"white\",\"ticks\":\"\"},\"bgcolor\":\"#E5ECF6\",\"radialaxis\":{\"gridcolor\":\"white\",\"linecolor\":\"white\",\"ticks\":\"\"}},\"scene\":{\"xaxis\":{\"backgroundcolor\":\"#E5ECF6\",\"gridcolor\":\"white\",\"gridwidth\":2,\"linecolor\":\"white\",\"showbackground\":true,\"ticks\":\"\",\"zerolinecolor\":\"white\"},\"yaxis\":{\"backgroundcolor\":\"#E5ECF6\",\"gridcolor\":\"white\",\"gridwidth\":2,\"linecolor\":\"white\",\"showbackground\":true,\"ticks\":\"\",\"zerolinecolor\":\"white\"},\"zaxis\":{\"backgroundcolor\":\"#E5ECF6\",\"gridcolor\":\"white\",\"gridwidth\":2,\"linecolor\":\"white\",\"showbackground\":true,\"ticks\":\"\",\"zerolinecolor\":\"white\"}},\"shapedefaults\":{\"line\":{\"color\":\"#2a3f5f\"}},\"ternary\":{\"aaxis\":{\"gridcolor\":\"white\",\"linecolor\":\"white\",\"ticks\":\"\"},\"baxis\":{\"gridcolor\":\"white\",\"linecolor\":\"white\",\"ticks\":\"\"},\"bgcolor\":\"#E5ECF6\",\"caxis\":{\"gridcolor\":\"white\",\"linecolor\":\"white\",\"ticks\":\"\"}},\"title\":{\"x\":0.05},\"xaxis\":{\"automargin\":true,\"gridcolor\":\"white\",\"linecolor\":\"white\",\"ticks\":\"\",\"title\":{\"standoff\":15},\"zerolinecolor\":\"white\",\"zerolinewidth\":2},\"yaxis\":{\"automargin\":true,\"gridcolor\":\"white\",\"linecolor\":\"white\",\"ticks\":\"\",\"title\":{\"standoff\":15},\"zerolinecolor\":\"white\",\"zerolinewidth\":2}}},\"font\":{\"family\":\"Courier New, monospace\",\"size\":18,\"color\":\"#7f7f7f\"},\"xaxis\":{\"title\":{\"text\":\"Epoch\"}},\"yaxis\":{\"title\":{\"text\":\"Error\"}}},                        {\"responsive\": true}                    ).then(function(){\n",
              "                            \n",
              "var gd = document.getElementById('ebc273a2-068c-49be-8913-8f037d0037ff');\n",
              "var x = new MutationObserver(function (mutations, observer) {{\n",
              "        var display = window.getComputedStyle(gd).display;\n",
              "        if (!display || display === 'none') {{\n",
              "            console.log([gd, 'removed!']);\n",
              "            Plotly.purge(gd);\n",
              "            observer.disconnect();\n",
              "        }}\n",
              "}});\n",
              "\n",
              "// Listen for the removal of the full notebook cells\n",
              "var notebookContainer = gd.closest('#notebook-container');\n",
              "if (notebookContainer) {{\n",
              "    x.observe(notebookContainer, {childList: true});\n",
              "}}\n",
              "\n",
              "// Listen for the clearing of the current output cell\n",
              "var outputEl = gd.closest('.output');\n",
              "if (outputEl) {{\n",
              "    x.observe(outputEl, {childList: true});\n",
              "}}\n",
              "\n",
              "                        })                };                            </script>        </div>\n",
              "</body>\n",
              "</html>"
            ]
          },
          "metadata": {}
        }
      ]
    },
    {
      "cell_type": "code",
      "execution_count": 60,
      "metadata": {
        "id": "SRPqEQdv5ULx",
        "colab": {
          "base_uri": "https://localhost:8080/"
        },
        "outputId": "76400038-e9ab-47a5-fdcf-ef144cd2a7a2"
      },
      "outputs": [
        {
          "output_type": "stream",
          "name": "stdout",
          "text": [
            "How many million light-years away is NGC 520, a pair of colliding galaxies, located? ['Star is the closest-known white dwarf to us, 12.35 magnitude.', 'Due to the dimness of these stars, the constellation is essentially invisible in or near any major city due to light pollution.', '=== Deep-sky objects ===', 'M74 is a loosely wound (type Sc) spiral galaxy in Pisces, found at a distance of 30 million light years (redshift 0.0022).', 'It has many clusters of young stars and the associated nebulae, showing extensive regions of star formation.', 'It was discovered by Pierre Méchain, a French astronomer, in 1780.', 'A type II-P supernova was discovered in the outer regions of M74 by Robert Evans in June 2003; the star that underwent the supernova was later identified as a red supergiant with a mass of 8 solar masses.', 'NGC 488 is an isolated face-on prototypical spiral galaxy.', 'NGC 520 is a pair of colliding galaxies located 90 million lightyears away.', 'CL 0024+1654 is a massive galaxy cluster that lenses the galaxy behind it, creating arc-shaped images of the background galaxy.']\n",
            "tensor([[0., 0., 0., 0., 0., 0., 0., 0., 1., 0.]])\n",
            "tensor([[0.0022, 0.0077, 0.0038, 0.0075, 0.0050, 0.0058, 0.0039, 0.0097, 0.9476,\n",
            "         0.0068]], device='cuda:0', grad_fn=<SoftmaxBackward0>)\n",
            "tensor([[8]], device='cuda:0')\n",
            "Due to what type of pollution is Pisces is essentially invisible in or near any major city? ['Star is the closest-known white dwarf to us, 12.35 magnitude.', 'Due to the dimness of these stars, the constellation is essentially invisible in or near any major city due to light pollution.', '=== Deep-sky objects ===', 'M74 is a loosely wound (type Sc) spiral galaxy in Pisces, found at a distance of 30 million light years (redshift 0.0022).', 'It has many clusters of young stars and the associated nebulae, showing extensive regions of star formation.', 'It was discovered by Pierre Méchain, a French astronomer, in 1780.', 'A type II-P supernova was discovered in the outer regions of M74 by Robert Evans in June 2003; the star that underwent the supernova was later identified as a red supergiant with a mass of 8 solar masses.', 'NGC 488 is an isolated face-on prototypical spiral galaxy.', 'NGC 520 is a pair of colliding galaxies located 90 million lightyears away.', 'CL 0024+1654 is a massive galaxy cluster that lenses the galaxy behind it, creating arc-shaped images of the background galaxy.']\n",
            "tensor([[0., 1., 0., 0., 0., 0., 0., 0., 0., 0.]])\n",
            "tensor([[0.0237, 0.9012, 0.0126, 0.0057, 0.0133, 0.0082, 0.0088, 0.0102, 0.0090,\n",
            "         0.0073]], device='cuda:0', grad_fn=<SoftmaxBackward0>)\n",
            "tensor([[1]], device='cuda:0')\n",
            "Is Spanish the most spoken language in the United States? ['With a population of over 410 million, Hispanophone America accounts for the vast majority of Spanish speakers, of which Mexico is the most populous Spanish-speaking country.', 'In the European Union, Spanish is the mother tongue of 8% of the population, with an additional 7% speaking it as a second language.', 'Additionally, Spanish is the second most spoken language in the United States and is by far the most popular foreign language among students.', 'In 2015, it was estimated that over 50 million Americans spoke Spanish, about 41 million of whom were native speakers.', 'With continued immigration and increased use of the language domestically in public spheres and media, the number of Spanish speakers in the United States is expected to continue growing over the forthcoming decades.', '==. Dialectal variation ==.', 'While being mutually intelligible, there are important variations (phonological, grammatical, and lexical) in the spoken Spanish of the various regions of Spain and throughout the Spanish-speaking areas of the Americas.', 'The variety with the most speakers is Mexican Spanish.', \"It is spoken by more than twenty percent of the world's Spanish speakers (more than 112 million of the total of more than 500 million, according to the table above).\", 'One of its main features is the reduction or loss of unstressed vowels, mainly when they are in contact with the sound /s/.In Spain, northern dialects are popularly thought of as closer to the standard, although positive attitudes toward southern dialects have increased significantly in the last 50 years.']\n",
            "tensor([[0., 0., 1., 0., 0., 0., 0., 0., 0., 0.]])\n",
            "tensor([[0.0042, 0.0107, 0.9177, 0.0167, 0.0074, 0.0087, 0.0088, 0.0114, 0.0092,\n",
            "         0.0051]], device='cuda:0', grad_fn=<SoftmaxBackward0>)\n",
            "tensor([[2]], device='cuda:0')\n",
            "Are English language newspapers distributed in rural areas in Maharashtra? ['The state is home to more than 200 newspapers and 350 consumer magazines.', 'The publishing industry employs more than 250,000 people.', 'As of December 2016, Sakal, published in Pune and other major cities, is the largest circulated Marathi Newspaper in Maharashtra.', 'Other major Marathi newspapers include Maharashtra Times, Loksatta, Nava Kaal, Pudhari, and Lokmat.', 'Saptahik Sakal, Grihashobhika, Lokrajya, Lokprabha, and Chitralekha are some of the important Marathi magazines.', 'English language newspapers are confined to urban areas.', 'Some popular among these are Daily News & Analysis, The Times of India, Hindustan Times, The Indian Express, Mumbai Mirror, Asian Age, MiD-DAY and The Free Press Journal.', 'Some prominent financial dailies like The Economic Times, Mint, Business Standard, and The Financial Express are widely circulated.', 'Many newspapers in other Indian languages such as Nava Bharat in Hindi, Udayavani in Kannada, Mumbai Samachar in Gujarati, and The Inquilab in Urdu have Mumbai editions.', \"The television industry in Maharashtra has been contributing significantly in the state's economy.\"]\n",
            "tensor([[0., 0., 0., 0., 0., 1., 0., 0., 0., 0.]])\n",
            "tensor([[0.0083, 0.0063, 0.0088, 0.0077, 0.0120, 0.9306, 0.0093, 0.0055, 0.0077,\n",
            "         0.0037]], device='cuda:0', grad_fn=<SoftmaxBackward0>)\n",
            "tensor([[5]], device='cuda:0')\n",
            "Why did Emperor Ming lose his northern commandries? ['However, Emperor Ming grew arrogant and refused to grant a pardon to those who had supported Liu Ziye.', 'This action was extremely detrimental to Liu Song and its successors, as the governors of the northern commandries, fearing their lives, surrendered to Wei rather than face execution at Jiankang.', 'This resulted in the loss of the Chinese heartland and the most fertile and cultivated lands at that time.', 'This loss would eventually lead to the destruction of the southern regime, and resulted in North China languishing under a barbarian yoke for another 150 years.', 'Although Emperor Ming attempted to recover them, his attempts were defeated.', \"Emperor Ming's later reign was extremely brutal.\", 'Suspicious of his nephews, he had them all executed.', 'Afraid of usurpation from rival members of the royal family, he executed thousands of members of the royal family, which was greatly weakened.', \"Upon his death, his son had to be assisted by the general Xiao Daocheng, as nearly all of Emperor Ming's brothers and nephews had been killed.\", '=== Fall of Liu Song ===']\n",
            "tensor([[1., 1., 0., 0., 0., 0., 0., 0., 0., 0.]])\n",
            "tensor([[0.8362, 0.0893, 0.0083, 0.0093, 0.0126, 0.0096, 0.0109, 0.0120, 0.0045,\n",
            "         0.0073]], device='cuda:0', grad_fn=<SoftmaxBackward0>)\n",
            "tensor([[0]], device='cuda:0')\n",
            "Is Jhelum the largest tributary of the Indus? ['Punjabi Muslims are the majority in West Punjab (Pakistan), while Punjabi Sikhs and Punjabi Hindus are the majority in East Punjab (India).', 'Other religious groups are Christianity, Jainism, Zoroastrianism, Buddhism, and Ravidassia.', 'The Punjab region is often referred to as the breadbasket in both India and Pakistan.', '==. Etymology ==.', \"Though the name Punjab is of Persian origin, its two parts (پنج, panj, 'five' and آب, āb, 'water') are cognates of the Sanskrit words, पञ्\\u200dच, pañca, 'five' and अप्, áp, 'water', of the same meaning.\", \"The word pañjāb thus means 'The Land of Five Waters', referring to the rivers Jhelum, Chenab, Ravi, Sutlej, and Beas.\", 'All are tributaries of the Indus River, the Sutlej being the largest.', \"References to a land of five rivers may be found in the Mahabharata, which calls one of the regions in ancient Bharat  Panchanada (Sanskrit: पञ्चनद, romanized: pañca-nada, lit.\\u2009'five rivers').\", 'Persian place names are very common in Northwest India and Pakistan.', 'The ancient Greeks referred to the region as Pentapotamía (Greek: Πενταποταμία), which has the same meaning as the Persian word.']\n",
            "tensor([[0., 0., 0., 0., 0., 0., 1., 0., 0., 0.]])\n",
            "tensor([[0.0063, 0.0072, 0.0048, 0.0075, 0.0071, 0.0078, 0.9320, 0.0177, 0.0041,\n",
            "         0.0053]], device='cuda:0', grad_fn=<SoftmaxBackward0>)\n",
            "tensor([[6]], device='cuda:0')\n",
            "Is Pok√©mon Snap part of the main Pok√©mon game series? ['Outside of the main series, Eevee is a photographable Pokémon in Pokémon Snap.', 'In Pokémon Stadium 2, Eevee stars in its own minigame called \"Eager Eevee\".', 'Players have to run around in circles while Aipom raises and lowers a cover on berries.', 'The object is to be among the first to grab some of the berries.', \"It also appeared in Pokémon Pinball, Pokémon Channel, Pokémon Trozei!, Pokémon Mystery Dungeon: Blue Rescue Team and Red Rescue Team, Pokémon Mystery Dungeon: Explorers of Sky, Pokémon Ranger: Shadows of Almia, My Pokémon Ranch, Pokémon Rumble, Pokémon Mystery Dungeon: Adventure Team, PokéPark Wii: Pikachu's Adventure, Pokémon Ranger: Guardian Signs, Pokémon Rumble Blast, Pokémon Conquest, Pokémon Mystery Dungeon: Gates to Infinity, Pokémon Rumble U, Pokémon Battle Trozei, Pokémon Rumble World, Pokémon Picross, Pokémon Rumble Rush, Pokémon Mystery Dungeon: Rescue Team DX, Pokémon Shuffle ,Pokémon Masters EX, Pokkén Tournament, Pokémon Go, Pokémon Unite and New Pokémon Snap.\", '===', 'In the anime ===', 'In the anime, Eevee first appeared in The Battling Eevee Brothers.', 'A little boy named Mikey was hiding the Evolution Pokémon from his three older brothers because they wanted him to evolve it.', \"However, when Mikey's Eevee single-handedly defeated Team Rocket, they were able to accept the fact that Mikey wanted to keep his Eevee just the way it is.\"]\n",
            "tensor([[1., 0., 0., 0., 0., 0., 0., 0., 0., 0.]])\n",
            "tensor([[0.9479, 0.0078, 0.0038, 0.0086, 0.0051, 0.0052, 0.0070, 0.0091, 0.0018,\n",
            "         0.0035]], device='cuda:0', grad_fn=<SoftmaxBackward0>)\n",
            "tensor([[0]], device='cuda:0')\n",
            "Where is the Sagittarius constellation located? ['Sagittarius is one of the constellations of the zodiac and is located in the Southern celestial hemisphere.', 'It is one of the 48 constellations listed by the 2nd-century astronomer Ptolemy and remains one of the 88 modern constellations.', 'Its old astronomical symbol is  (♐︎).', 'Its name is Latin for \"archer\".', 'Sagittarius is commonly represented as a centaur pulling back a bow.', 'It lies between Scorpius and Ophiuchus to the west and Capricornus and Microscopium to the east.', 'The center of the Milky Way lies in the westernmost part of Sagittarius (see Sagittarius A).', '==. Visualizations ==.', 'As seen from the northern hemisphere, the constellation\\'s brighter stars form an easily recognizable asterism known as \"the Teapot\".', 'The stars δ Sgr (Kaus Media), ε Sgr (Kaus Australis), ζ Sgr (Ascella), and φ Sgr form the body of the pot; λ Sgr (Kaus Borealis) is the point of the lid; γ2 Sgr (Alnasl) is the tip of the spout; and σ Sgr (Nunki) and τ']\n",
            "tensor([[1., 0., 0., 0., 0., 0., 0., 0., 0., 0.]])\n",
            "tensor([[0.9454, 0.0074, 0.0040, 0.0100, 0.0060, 0.0063, 0.0072, 0.0085, 0.0018,\n",
            "         0.0034]], device='cuda:0', grad_fn=<SoftmaxBackward0>)\n",
            "tensor([[0]], device='cuda:0')\n",
            "Did Chen Baxian display a relic believed to be a Buddha's tooth and hold a major Buddhist festival? ['Xuanzang / Chen', \"Yi is also known for his pilgrimage to India, and his adventure has featured in China's classic novel Journey to the West.\", '== Culture ==', 'Jiankang, the capital, was an important cultural, political and religious center, attracting businessmen and Buddhist monks from Southeast Asia and India.', 'The culture of the Southern Dynasty reached its during the Chen Dynasty.', 'In literature, Xu Ling (徐陵) was an influential writer during the Chen dynasty, with his literary collection \"New Songs of Yutai\" being passed down for generations.', 'One of the most famous chapters from New Songs of Yutai is \"Peacock Flying Southeast\" (《孔雀东南飞》).', 'In art, Yao Zui\\'s (姚最) \"Continued Paintings\" has the greatest influence.', \"Once Chen Baxian became emperor he immediately took steps to officially sanction Buddhism, as he displayed a relic believed to be a Buddha's tooth and held a major Buddhist festival.\", \"He also, following the lead of Liang's Emperor Wu, offered himself to Buddha's service on one occasion.\"]\n",
            "tensor([[0., 0., 0., 0., 0., 0., 0., 0., 1., 0.]])\n",
            "tensor([[0.0022, 0.0080, 0.0037, 0.0060, 0.0043, 0.0060, 0.0040, 0.0106, 0.9488,\n",
            "         0.0065]], device='cuda:0', grad_fn=<SoftmaxBackward0>)\n",
            "tensor([[8]], device='cuda:0')\n",
            "Who once called Portuguese \"the sweet and gracious language\"? ['By the mid-16th century, Portuguese had become a lingua franca in Asia and Africa, used not only for colonial administration and trade but also for communication between local officials and Europeans of all nationalities.', 'The Portuguese expanded across South America, across Africa to the Pacific Ocean, taking their language with them.', 'Its spread was helped by mixed marriages between Portuguese and local people and by its association with Roman Catholic missionary efforts, which led to the formation of creole languages such as that called Kristang in many parts of Asia (from the word cristão, \"Christian\").', 'The language continued to be popular in parts of Asia until the 19th century.', 'Some Portuguese-speaking Christian communities in India, Sri Lanka, Malaysia, and Indonesia preserved their language even after they were isolated from Portugal.', 'The end of the Old Portuguese period was marked by the publication of the Cancioneiro Geral by Garcia de Resende, in 1516.', 'The early times of Modern Portuguese, which spans the period from the 16th century to the present day, were characterized by an increase in the number of learned words borrowed from Classical Latin and Classical Greek because of the Renaissance (learned words borrowed from Latin also came from Renaissance Latin, the form of Latin during that time), which greatly enriched the lexicon.', 'Most literate Portuguese speakers were also literate in Latin; and thus they easily adopted Latin words into their writing, and eventually speech, in Portuguese.', 'Spanish author Miguel de Cervantes once called Portuguese \"the sweet and gracious language\", while the Brazilian poet Olavo Bilac described it as a última flor do Lácio, inculta e bela (\"the last flower of Latium, naïve and beautiful\").', 'Portuguese is also termed \"the language of Camões,\" after Luís Vaz de Camões, one of the greatest literary figures in the Portuguese language and author of the Portuguese epic poem The Lusiads.']\n",
            "tensor([[0., 0., 0., 0., 0., 0., 0., 0., 1., 0.]])\n",
            "tensor([[0.0022, 0.0079, 0.0038, 0.0058, 0.0041, 0.0060, 0.0041, 0.0112, 0.9485,\n",
            "         0.0064]], device='cuda:0', grad_fn=<SoftmaxBackward0>)\n",
            "tensor([[8]], device='cuda:0')\n"
          ]
        }
      ],
      "source": [
        "sentenceDetection.eval()\n",
        "for index, ((question, sentences), (data, label)) in enumerate(sentenceDetection.train_dataset[40:50]):\n",
        "    train_out = sentenceDetection(data)\n",
        "    print(question, sentences)\n",
        "    print(label)\n",
        "    print(train_out)\n",
        "    print((train_out[0] > 0.1).nonzero().reshape(1, (train_out[0] > 0.1).nonzero().shape[0]))\n",
        "    "
      ]
    },
    {
      "cell_type": "code",
      "execution_count": 92,
      "metadata": {
        "id": "C5_y94lRewSD",
        "colab": {
          "base_uri": "https://localhost:8080/"
        },
        "outputId": "880e473a-e0e2-47e9-823a-bdf0e4234430"
      },
      "outputs": [
        {
          "output_type": "stream",
          "name": "stdout",
          "text": [
            "To which territory was Nagpur annexed in 1853? ['Every inch that we recede will be occupied by them.', 'The British East India Company gained Mumbai in the early 17th century, and became one of their major trading ports.', 'The Company slowly expanded areas under its rule during the 18th century.', 'The British governed western Maharashtra as part of the Bombay Presidency, which spanned an area from Karachi in Pakistan to northern Deccan.', 'A number of the Maratha states persisted as princely states, retaining autonomy in return for acknowledging British suzerainty.', 'The largest princely states in the territory were Nagpur, Satara and Kolhapur; Satara was annexed to the Bombay Presidency in 1848, and Nagpur was annexed in 1853 to become Nagpur Province, later part of the Central Provinces.', \"Berar, which had been part of the Nizam of Hyderabad's kingdom, was occupied by the British in 1853 and annexed to the Central Provinces in 1903.\", \"However, a large region called Marathwada remained part of the Nizam's Hyderabad State throughout the British period.\", 'The British ruled Maharashtra region from 1818 to 1947 and influenced every aspect of life for the people of the region.', 'They brought several changes to the legal system, built modern means of transport including roads and Railways, took various steps to provide mass education, including that for previously marginalised classes and women, established universities based on western system and imparting education in science, technology, and western medicine, standardised the Marathi language, and introduced mass media by utilising modern printing technologies.']\n",
            "tensor([[0., 0., 0., 0., 0., 1., 0., 0., 0., 0.]])\n",
            "tensor([[0.0033, 0.0024, 0.0029, 0.0045, 0.0043, 0.9674, 0.0056, 0.0037, 0.0039,\n",
            "         0.0020]], device='cuda:0', grad_fn=<SoftmaxBackward0>)\n",
            "tensor([[5]], device='cuda:0')\n",
            "Is television a main driver of Maharashtra's economy? ['The state is home to more than 200 newspapers and 350 consumer magazines.', 'The publishing industry employs more than 250,000 people.', 'As of December 2016, Sakal, published in Pune and other major cities, is the largest circulated Marathi Newspaper in Maharashtra.', 'Other major Marathi newspapers include Maharashtra Times, Loksatta, Nava Kaal, Pudhari, and Lokmat.', 'Saptahik Sakal, Grihashobhika, Lokrajya, Lokprabha, and Chitralekha are some of the important Marathi magazines.', 'English language newspapers are confined to urban areas.', 'Some popular among these are Daily News & Analysis, The Times of India, Hindustan Times, The Indian Express, Mumbai Mirror, Asian Age, MiD-DAY and The Free Press Journal.', 'Some prominent financial dailies like The Economic Times, Mint, Business Standard, and The Financial Express are widely circulated.', 'Many newspapers in other Indian languages such as Nava Bharat in Hindi, Udayavani in Kannada, Mumbai Samachar in Gujarati, and The Inquilab in Urdu have Mumbai editions.', \"The television industry in Maharashtra has been contributing significantly in the state's economy.\"]\n",
            "tensor([[0., 0., 0., 0., 0., 0., 0., 0., 0., 1.]])\n",
            "tensor([[0.0054, 0.0101, 0.0083, 0.0073, 0.0048, 0.0055, 0.0083, 0.0098, 0.1194,\n",
            "         0.8212]], device='cuda:0', grad_fn=<SoftmaxBackward0>)\n",
            "tensor([[8, 9]], device='cuda:0')\n",
            "When did Xiao Yuanming arrive at Jiankang to take the throne? [\"When Jiankang fell, Chen's son Chen Chang and nephew Chen Xu, who had been serving in the imperial administration, were captured and taken to the Western Wei capital Chang'an as honored captives.\", \"At this time, however, Emperor Wenxuan of Northern Qi had other ideas, and he sent his brother Gao Huan (高渙) the Prince of Shangdang to command an army to escort Emperor Yuan's cousin Xiao Yuanming the Marquess of Zhenyang—whom Eastern Wei had taken captive in 547—back to Liang to be emperor.\", 'Wang initially rejected Xiao Yuanming, but after his forces lost a few battles to Northern Qi forces, changed his mind and decided to accept Xiao Yuanming as emperor after extracting a promise from Xiao Yuanming to make Xiao Fangzhi crown prince.', 'In summer 555, Xiao Yuanming arrived at Jiankang to take the throne, and he created Xiao Fangzhi crown prince.', 'Wang and Chen continued to be in charge of the military.', 'Chen, however, was unhappy about the situation, believing Xiao Yuanming to be unworthy of the throne.', \"Despite Wang Sengbian's knowledge of Chen's displeasure, however, Wang did not suspect Chen of having any rebellious intentions, as they had been friendly, and Wang and Chen had agreed on having Wang Sengbian's son Wang Wei (王頠) marry Chen's daughter.\", 'In fall 555, believing reports that Northern Qi was going to attack, Wang sent his secretary Jiang Gan (江旰) to Jingkou to alert Chen.', 'Chen took over control of the imperial government, forcing Xiao Yuanming to abdicate and making Xiao Fangzhi emperor (as Emperor Jing).', \"Chen initially sent his nephew Chen Qian and his general Zhou Wenyu against Du and Du's ally Wei Zai (韋載).\"]\n",
            "tensor([[0., 0., 0., 1., 0., 0., 0., 0., 0., 0.]])\n",
            "tensor([[0.0044, 0.0022, 0.0029, 0.9670, 0.0035, 0.0034, 0.0042, 0.0041, 0.0063,\n",
            "         0.0019]], device='cuda:0', grad_fn=<SoftmaxBackward0>)\n",
            "tensor([[3]], device='cuda:0')\n",
            "Does Maharastra house the headquarters of most of the major corporate and financial institutions? ['\\\\== Economy ==', 'The economy of Maharashtra is driven by manufacturing, international trade, Mass Media (television, motion pictures, video games, recorded music), aerospace, technology, petroleum, fashion, apparel, and tourism.', 'Maharashtra is the most industrialised state and has maintained the leading position in the industrial sector in India.', 'The State is a pioneer in small scale industries.', 'Mumbai, the capital of the state and the financial capital of India, houses the headquarters of most of the major corporate and financial institutions.', \"India's main stock exchanges and capital market and commodity exchanges are located in Mumbai.\", 'The state continues to attract industrial investments from domestic as well as foreign institutions.', \"Maharashtra has the largest proportion of taxpayers in India and its share markets transact almost 70 per cent of the country's stocks.\", 'The Service sector dominates the economy of Maharashtra, accounting for 61.4 per cent of the value addition and 69.3 per cent of the value of output in the state.', \"The state's per-capita income in 2014 was 40 per cent higher than the all-India average in the same year.E17\"]\n",
            "tensor([[0., 0., 0., 0., 1., 0., 0., 0., 0., 0.]])\n",
            "tensor([[0.0027, 0.0072, 0.0020, 0.0066, 0.9585, 0.0035, 0.0044, 0.0062, 0.0037,\n",
            "         0.0052]], device='cuda:0', grad_fn=<SoftmaxBackward0>)\n",
            "tensor([[4]], device='cuda:0')\n",
            "Who designed Mewtwo? ['Green reprised the role in the 2019 remake of the first Pokémon movie, Pokémon: Mewtwo Strikes Back Evolution.', 'Actress Reiko Takashima voiced a second, unrelated Mewtwo in the Pokémon anime special Mewtwo: Prologue to Awakening and its direct sequel, Pokémon the Movie: Genesect and the Legend Awakened; this second Mewtwo is voiced by actress Miriam Pultro in the English dub.', 'Mewtwo has featured in other game franchises, such as Super Smash Bros. series.', 'A third Mewtwo also appears in the 2019 live-action animated film Detective Pikachu, voiced simultaneously by Rina Hoshino and Kotaro Watanabe.', '==. Design and characteristics ==.', 'Japanese video game designer Ken Sugimori designed Mewtwo for the first generation of Pocket Monsters games, Red and Green, known outside Japan as Pokémon Red and Blue.', \"In the games, Mewtwo is the result of genetic recombination of Mew's DNA that was born from Mew similar to real life clones.\", 'While most Pokémon are hatched from eggs, Mewtwo is the only Pokémon that was born.', 'In the anime adaptation, however, it is instead a modified clone whose name means the \"second Mew\" that, instead of being born from a Mew like in the games, it was created in a tube with the DNA sample being from a Mew eyelash.', 'Until the first Pokémon movie was released in the United States, Mewtwo was rarely referred to as a \"clone\" in Japanese sources.']\n",
            "tensor([[0., 0., 0., 0., 0., 1., 0., 0., 0., 0.]])\n",
            "tensor([[0.0030, 0.0024, 0.0030, 0.0043, 0.0043, 0.9686, 0.0046, 0.0035, 0.0043,\n",
            "         0.0019]], device='cuda:0', grad_fn=<SoftmaxBackward0>)\n",
            "tensor([[5]], device='cuda:0')\n",
            "Are lions one of the most common animals species present in Maharashtra? ['Southern Tropical', 'Thorn forests are found in the low rainfall regions of Marathwada, Vidarbha, Khandesh, and Western Maharashtra.', 'At present, these forests are heavily degraded.', 'Babul, Bor, and Palas are some of the tree species found here.', 'Littoral and Swamp forests are mainly found in the Creeks of Sindhudurg and Thane districts of the coastal Konkan region.', 'The state harbours significant mangrove, coastal and marine biodiversity, with 304 km2 (117 sq mi) of the area under mangrove cover as per the India State of Forest Report (ISFR) of the Forest survey India in the coastal districts of the state.', 'The most common animal species present in the state are monkeys, wild pigs, tiger, leopard, gaur, sloth bear, sambar, four-horned antelope, chital, barking deer, mouse deer, small Indian civet, golden jackal, jungle cat, and hare.', 'Other animals found in this state include reptiles such as lizards, scorpions and snake species such as cobras and kraits, etc.', 'The state provides legal protection to its tiger population through six dedicated tiger reserves under the precincts of the National Tiger Conservation Authority.', \"The state's 720 kilometres of sea coastline of the Arabian sea marks presence of various types of fish and marine animals.\"]\n",
            "tensor([[0., 0., 0., 0., 0., 0., 1., 0., 0., 0.]])\n",
            "tensor([[0.0037, 0.0069, 0.0028, 0.0040, 0.0045, 0.0069, 0.9564, 0.0086, 0.0023,\n",
            "         0.0037]], device='cuda:0', grad_fn=<SoftmaxBackward0>)\n",
            "tensor([[6]], device='cuda:0')\n",
            "What is the official language of Maharashtra? ['Since 1921, the populations of Ratnagiri and Sindhudurg shrank by −4.96 per cent and −2.30 per cent, respectively, while the population of Thane grew by 35.9 per cent, followed by Pune at 30.3 per cent.', 'The literacy rate is 83.2 per cent, higher than the national rate at 74.04 per cent.', 'Of this, male literacy stood at 89.82 per cent and female literacy 75.48 per cent.', 'Marathi is the official language although different regions have their own dialects.', 'Most people speak regional languages classified as dialects of Marathi in the census.', 'Powari, Lodhi, and Varhadi are spoken in the Vidarbha region, Dangi is spoken near the Maharashtra-Gujarat border, Bhil languages are spoken throughout the northwest part of the state, Khandeshi (locally known as Ahirani) is spoken in Khandesh region.', 'Other notable languages spoken in the state include Gondi, Korku, Konkani, and Malvani.', 'The Hindi language is mainly predominant in the Mumbai metropolitan area and other urban centers of Pune and Nagpur.', 'Urdu and its dialect, the Dakhni are spoken mainly by the Muslim population of the state.', 'Muslims in Maharashtra as well as other regions of the Deccan consider Dakhni to be their first language nevertheless a majority of them consider themselves as multi-lingual.']\n",
            "tensor([[0., 0., 0., 1., 0., 0., 0., 0., 0., 0.]])\n",
            "tensor([[0.0040, 0.0022, 0.0030, 0.9670, 0.0036, 0.0035, 0.0042, 0.0040, 0.0065,\n",
            "         0.0021]], device='cuda:0', grad_fn=<SoftmaxBackward0>)\n",
            "tensor([[3]], device='cuda:0')\n",
            "What is the height of the Shillong Peak? ['Most of these are rainfed and seasonal.', 'The important rivers in the Garo Hills region are Ganol, Daring, Sanda, Bandra, Bugai, Dareng, Simsang, Nitai and the Bhupai.', 'In the central and eastern sections of the plateau, the important rivers are Khri, Umtrew, Digaru, Umiam or Barapani, Kynshi (Jadukata), Umngi, Mawpa, Umiam Khwan, Umngot, Umkhen, Myntdu and Myntang.', 'In the southern Khasi Hills region, these rivers have created deep gorges and several waterfalls.', 'The elevation of the plateau ranges between 150 m (490 ft) to 1,961 m (6,434 ft).', 'The central part of the plateau comprising the Khasi Hills has the highest elevations, followed by the eastern section comprising the Jaintia Hills region.', 'The highest point in Meghalaya is Shillong Peak, which is a prominent IAF station in the Khasi Hills overlooking the city of Shillong.', 'It has an altitude of 1961 m.', 'The Garo Hills region in the western section of the plateau is nearly plain.', 'The highest point in the Garo Hills is Nokrek Peak with an altitude of 1515 m.']\n",
            "tensor([[0., 0., 0., 0., 0., 0., 1., 1., 0., 0.]])\n",
            "tensor([[0.0033, 0.0038, 0.0027, 0.0039, 0.0039, 0.0044, 0.9586, 0.0131, 0.0025,\n",
            "         0.0038]], device='cuda:0', grad_fn=<SoftmaxBackward0>)\n",
            "tensor([[6]], device='cuda:0')\n",
            "Which emperor came between Emperor Wen and Emperor Xuan of the Chen dynasty? ['He was observant of things and frugal in his lifestyle.', 'Ever night, he would order his servants to open the door to his sleeping quarters, to bring in the emergency submissions so that he could review them.', 'He also ordered that his guards, whenever they were to change shifts, should throw their shift plates on the stone steps so that they would be loud enough to wake him.', 'Emperor', 'Wen further solidified and unified the territory of Chen, helping the economy recover and flourish.', '=== Emperor Chen Bozong ===', 'Emperor Wen was succeeded by Chen Bozong (Emperor Fei), who was then succeeded by Chen Xu (Emperor Xuan).', 'Both Chen Bozong and Chen Xu were also very effective and capable rulers who further strengthened and expanded the state, rivaling and even defeating the Northern Zhou and Northern Qi.', 'In the ninth year of Taijian (太建 577), Northern Zhou Dynasty destroyed Northern Qi.', 'In the following year, Chen and Zhou launched a fierce battle in Luliang, Chen defeated the Zhou and made further advances north.']\n",
            "tensor([[0., 0., 0., 0., 0., 0., 1., 0., 0., 0.]])\n",
            "tensor([[0.0049, 0.0035, 0.0022, 0.0049, 0.0040, 0.0040, 0.9559, 0.0150, 0.0027,\n",
            "         0.0030]], device='cuda:0', grad_fn=<SoftmaxBackward0>)\n",
            "tensor([[6]], device='cuda:0')\n",
            "How many languages are used as a medium for instruction in schools in Meghalaya? ['The district headquarters are located at Tura.', 'The South Garo Hills district came into existence on 18 June 1992 after the division of the West Garo Hills district.', 'The total geographical area of the district is 1,850 square kilometres (710 sq mi).', 'As per the 2001 census the district has a population of 99,100.', 'The district headquarters are at Baghmara.', 'In 2012, there were 11 districts, 16 towns and an estimated 6,026 villages in Meghalaya.', 'A 12th district, Eastern West Khasi Hills, was created in 2021.', '==. Education ==.', 'Meghalaya schools are run by the state government or by private organisations, including religious institutions.', 'Instruction is only in English.']\n",
            "tensor([[0., 0., 0., 0., 0., 0., 0., 0., 1., 1.]])\n",
            "tensor([[0.0029, 0.0040, 0.0024, 0.0015, 0.0036, 0.0025, 0.0036, 0.0039, 0.0037,\n",
            "         0.9719]], device='cuda:0', grad_fn=<SoftmaxBackward0>)\n",
            "tensor([[9]], device='cuda:0')\n",
            "Which is the brightest star in the Aquarius constellation? ['Aquarius is an equatorial constellation of the zodiac, between Capricornus and Pisces.', 'Its name is Latin for \"water-carrier\" or \"cup-carrier\", and its old astronomical symbol is  (♒︎), a representation of water.', \"Aquarius is one of the oldest of the recognized constellations along the zodiac (the Sun's apparent path).\", 'It was one of the 48 constellations listed by the 2nd century astronomer Ptolemy, and it remains one of the 88 modern constellations.', 'It is found in a region often called the Sea due to its profusion of constellations with watery associations such as Cetus the whale, Pisces the fish, and Eridanus the river.', 'At apparent magnitude 2.9, Beta Aquarii is the brightest star in the constellation.', '==. History and mythology ==.', 'Aquarius is identified as GU.LA \"The Great One\" in the Babylonian star catalogues and represents the god Ea himself, who is commonly depicted holding an overflowing vase.', 'The Babylonian star-figure appears on entitlement stones and cylinder seals from the second millennium.', 'It contained the winter solstice in the Early Bronze Age.']\n",
            "tensor([[0., 0., 0., 0., 0., 1., 0., 0., 0., 0.]])\n",
            "tensor([[0.0032, 0.0024, 0.0031, 0.0043, 0.0043, 0.9689, 0.0043, 0.0035, 0.0041,\n",
            "         0.0020]], device='cuda:0', grad_fn=<SoftmaxBackward0>)\n",
            "tensor([[5]], device='cuda:0')\n",
            "In what year did Emperor Wu of Northern Zhou capture Northern Qi's capital Yecheng? ['Emperor Xuan was so pleased that he, in an elaborate ceremony, conferred a variety of honors on Wu.', \"He also displayed Wang's head on the Jiankang city gate, although after a request by Zhu Yang (朱瑒), in which Zhu pointed out that Wang was faithful to Liang and should be honored, he returned Wang's head for a proper burial.\", 'In the following years, Chen continued to make minor gains against Northern Qi, but was not making major attacks.', \"In winter 576, Emperor Wu of Northern Zhou launched a major attack on Northern Qi, quickly capturing, in succession, Northern Qi's secondary capital Jinyang (晉陽, Chen Taiyuan, Shanxi) and capital Yecheng.\", \"Soon, he captured the Northern Qi emperor Gao Wei and annexed most of Northern Qi's territory by spring 577.\", \"Oddly enough, Emperor Xuan believed that he could seize part of Northern Qi territory after Northern Zhou's victory, and he sent Wu Mingche to again advance north.\", 'In winter 577, Wu put Pengcheng (彭城, Chen Xuzhou, Jiangsu) under siege, and Emperor Xuan was confident that Wu would soon be able to capture the region south of the Yellow River.', 'When the official Cai Jingli (蔡景歷) warned otherwise, he was so displeased that he demoted Cai to the post of a commandery governor.', 'In spring 578, the Northern Zhou general Wang Gui (王軌) thoroughly crushed Wu, capturing him.', 'Regretting his actions, Emperor Xuan recalled Cai to the capital.']\n",
            "tensor([[0., 0., 0., 1., 0., 0., 0., 0., 0., 0.]])\n",
            "tensor([[0.0040, 0.0023, 0.0035, 0.9659, 0.0043, 0.0036, 0.0042, 0.0038, 0.0064,\n",
            "         0.0020]], device='cuda:0', grad_fn=<SoftmaxBackward0>)\n",
            "tensor([[3]], device='cuda:0')\n",
            "Who was Emperor Wen's father? ['However, fortunes began to change for the Jin forces.', \"Liu Mengzhi died and in order to secure his power, Liu Yu left for Jiankang (present-day Nanjing), abandoning the management of the North to his general Wang Zhen'e.\", \"After his departure, the state of Xia attacked Guanzhong and reoccupied it, and the loss of these lands prescribed Jin's frontier at the Yellow River.\", 'However, Jin retained its former eastern capital, Luoyang, as well as most of the Chinese heartland.', 'Following his return to Jiankang, Liu Yu ended the rule of the Jin and became emperor himself in 420, establishing the Liu Song dynasty.', \"The name of the dynasty was taken from Liu's fief, which occupied roughly the same territory as the Spring & Autumn era State of Song.\", \"The Book of Song does not mention whether the Liu family had any blood relationship to the ancient state's ruling House of Zi, or by extension to the Shang dynasty.\", 'It is in any case noteworthy that Liu did not frame his new regime as a restoration of the Han dynasty, despite being demonstrably related to the Han imperial family.', 'Liu died in 422 CE, and was succeeded by the incompetent Shaodi, who was quickly removed.', 'His eventual successor would be his third son, Wendi.']\n",
            "tensor([[0., 0., 0., 0., 0., 0., 0., 0., 0., 1.]])\n",
            "tensor([[0.0064, 0.0249, 0.0027, 0.0027, 0.0229, 0.0039, 0.0123, 0.0097, 0.0096,\n",
            "         0.9051]], device='cuda:0', grad_fn=<SoftmaxBackward0>)\n",
            "tensor([[9]], device='cuda:0')\n",
            "What are the two official languages of the Government of India? ['Hindi (Devanāgarī: हिन्दी, हिंदी, ISO: Hindī), or more precisely Modern Standard Hindi (Devanagari: मानक हिन्दी, ISO: Mānak Hindī), is an Indo-Aryan language spoken chiefly in the Hindi Belt region encompassing parts of northern, central, eastern, and western India.', 'Hindi has been described as a standardised and Sanskritised register of the Hindustani language, which itself is based primarily on the Khariboli dialect of Delhi and neighbouring areas of North India.', 'Hindi, written in the Devanagari script, is one of the two official languages of the Government of India, along with English.', 'It is an official language in 9 states and 3 union territories and an additional official language in 3 other states.', 'Hindi is also one of the 22 scheduled languages of the Republic of India.', 'Hindi is the lingua franca of the Hindi Belt.', 'It is also spoken, to a lesser extent, in other parts of India (usually in a simplified or pidginised variety such as Bazaar Hindustani or Haflong Hindi).', 'Outside India, several other languages are recognised officially as \"Hindi\" but do not refer to the Standard Hindi language described here and instead descend from other dialects, such as Awadhi and Bhojpuri.', 'Such languages include Fiji Hindi, which has an official status in Fiji, and Caribbean Hindustani, which is spoken in Trinidad and Tobago, Guyana, and Suriname.', 'Apart from the script and formal vocabulary, standard Hindi is mutually intelligible with standard Urdu, another recognised register of Hindustani as both share a common colloquial base.']\n",
            "tensor([[0., 0., 1., 0., 0., 0., 0., 0., 0., 0.]])\n",
            "tensor([[0.0014, 0.0045, 0.9706, 0.0025, 0.0031, 0.0032, 0.0035, 0.0053, 0.0038,\n",
            "         0.0021]], device='cuda:0', grad_fn=<SoftmaxBackward0>)\n",
            "tensor([[2]], device='cuda:0')\n",
            "Were the Gallaeci pre-Roman inhabitants of Portugal? ['Nevertheless, because of its original Lusitanian and Celtic Gallaecian heritage, and the later participation of Portugal in the Age of Discovery, it has a relevant number of words from the ancient Hispano-Celtic group and adopted loanwords from other languages around the world.', 'A number of Portuguese words can still be traced to the pre-Roman inhabitants of Portugal, which included the Gallaeci, Lusitanians, Celtici and Cynetes.', 'Most of these words derived from the Hispano-Celtic Gallaecian language of northwestern Iberia, and are very often shared with Galician since both languages have the same origin in the medieval language of Galician-Portuguese.', 'A few of these words existed in Latin as loanwords from other Celtic sources, often Gaulish.', 'Altogether these are over 2,000 words, some verbs and toponymic names of towns, rivers, utensils and plants.', 'In the 5th century, the Iberian Peninsula (the Roman Hispania) was conquered by the Germanic, Suebi and Visigoths.', 'As they adopted the Roman civilization and language, however, these people contributed with some 500', 'Germanic words to the lexicon.', \"Many of these words are related to warfare, such as espora 'spur', estaca ('stake'), and guerra ('war'), from Gothic *spaúra, *stakka, and *wirro respectively; the natural world i.e. suino ('swine') from *sweina, gavião ('hawk') from *gabilans, vaga ('wave') from *vigan' human emotions such as orgulho or orgulhoso ('pride', 'proud') from Old Germanic *urguol or verbs like gravar ('to craft, record, graft') from *graba or esmagar ('to squeeze, quash, grind') from Suebian *magōn or esfarrapar ('to shred') from *harpō.\", \"The Germanic languages influence also exists in toponymic surnames and patronymic surnames borne by Visigoth sovereigns and their descendants, and it dwells on placenames such as Ermesinde, Esposende and Resende where sinde and sende are derived from the Germanic sinths ('military expedition') and in the case of Resende, the prefix re comes from Germanic reths ('council').\"]\n",
            "tensor([[0., 1., 0., 0., 0., 0., 0., 0., 0., 0.]])\n",
            "tensor([[0.0048, 0.9631, 0.0037, 0.0020, 0.0073, 0.0031, 0.0043, 0.0043, 0.0038,\n",
            "         0.0037]], device='cuda:0', grad_fn=<SoftmaxBackward0>)\n",
            "tensor([[1]], device='cuda:0')\n",
            "Did John Gilchrist have a role in the foundation of University College London? ['John Gilchrist was principally known for his study of the Hindustani language, which was adopted as the lingua franca of northern India (including what is now present-day Pakistan) by British colonists and indigenous people.', 'He compiled and authored An English-Hindustani Dictionary, A Grammar of the Hindoostanee Language, The Oriental Linguist, and many more.', 'His lexicon of Hindustani was published in the Perso-Arabic script, Nāgarī script, and in Roman transliteration.', 'He is also known for his role in the foundation of University College London and for endowing the Gilchrist Educational Trust.', 'In the late 19th century, a movement to further develop Hindi as a standardised form of Hindustani separate from Urdu took form.', 'In 1881, Bihar accepted Hindi as its sole official language, replacing Urdu, and thus became the first state of India to adopt Hindi.', '==.=. Independent India ==.=.', 'After independence, the government of India instituted the following conventions:', 'standardisation of grammar:', 'In 1954, the Government of India set up a committee to prepare a grammar of Hindi;']\n",
            "tensor([[1., 1., 1., 1., 0., 0., 0., 0., 0., 0.]])\n",
            "tensor([[0.4111, 0.0152, 0.0162, 0.5055, 0.0110, 0.0079, 0.0091, 0.0105, 0.0059,\n",
            "         0.0075]], device='cuda:0', grad_fn=<SoftmaxBackward0>)\n",
            "tensor([[0, 3]], device='cuda:0')\n",
            "When a crown prince of Northern Wei is named, who must his mother kill? ['Early in Northern', 'Wei history, the state inherited a number of traditions from its initial history as a Xianbei tribe, and some of the more unusual ones, from a traditional Chinese standpoint:', 'The officials did not receive salaries until Empress Dowager Feng took power, but were expected to requisition the necessities of their lives directly from the people they governed.', \"As Northern Wei Empire's history progressed, this appeared to be a major contributing factor leading to corruption among officials.\", \"Not until the second century of the empire's existence did the state begin to distribute salaries to its officials.\", 'Empresses were not named according to imperial favors or nobility of birth, but required that the candidates submit themselves to a ceremony where they had to personally forge golden statues, as a way of discerning divine favor.', 'Only an imperial consort who was successful in forging a golden statue could become the empress.', 'All men, regardless of ethnicity, were ordered to tie their hair into a single braid that would then be rolled and placed on top of the head, and then have a cap worn over the head.', 'When a crown prince is named, his mother, if still alive, must be forced to commit suicide.', \"According to some historians, this may not have been a Tuoba traditional custom, but believed it to be a tradition instituted by the founding emperor Emperor Daowu based on Emperor Wu of Han's execution of his favorite concubine Consort Zhao, the mother of his youngest son Liu Fuling (the eventual Emperor Zhao), before naming Prince Fuling crown prince.\"]\n",
            "tensor([[0., 0., 0., 0., 0., 0., 0., 0., 1., 0.]])\n",
            "tensor([[0.0011, 0.0037, 0.0013, 0.0028, 0.0018, 0.0028, 0.0020, 0.0055, 0.9763,\n",
            "         0.0027]], device='cuda:0', grad_fn=<SoftmaxBackward0>)\n",
            "tensor([[8]], device='cuda:0')\n",
            "Under whose rule did Northern Wei become a threat to the Liu Song? ['\\\\=== Reign of Emperor Wen ===', 'Under Emperor Wen, the Liu Song economy prospered during the rule of Yuanjia (Chinese: 元嘉之治), a period noted for its prosperity in the 400 years of conflict between the Han and Tang dynasties.', \"However, the emperor's martial abilities were not equal to his father, and his inability to crush the remaining barbarian states allowed Northern Wei to complete the unification of the North, to the detriment of Liu Song.\", 'Afterwards, Northern Wei would remain a grave and permanent threat to the Liu Song.', '==== War with Northern Wei ====', 'Emperor', 'Wen continued the campaigns of his father; nevertheless, he was unsuccessful.', 'In 422 CE, the first year of his reign, he lost three commanderies to Wei.', \"Under the able general Dao Yanzhi, however, Liu Song recovered the four cities of Luoyang, Hulao, Huatai and Qiao'ao south of the Yellow River.\", \"However, the emperor's unwillingness to advance past this line caused the destruction of the empire's ally, Xia, by the Wei.\"]\n",
            "tensor([[1., 1., 0., 0., 0., 0., 0., 0., 0., 0.]])\n",
            "tensor([[0.0075, 0.0135, 0.0591, 0.8760, 0.0103, 0.0075, 0.0089, 0.0052, 0.0078,\n",
            "         0.0041]], device='cuda:0', grad_fn=<SoftmaxBackward0>)\n",
            "tensor([[3]], device='cuda:0')\n",
            "What are the Roman counterparts for Aphrodite and Eros? ['The cluster is primarily made up of yellow elliptical and spiral galaxies, at a distance of 3.6 billion light-years from Earth (redshift 0.4), half as far away as the background galaxy, which is at a distance of 5.7 billion light-years (redshift 1.67).', '== History and mythology ==', 'Pisces originates from some composition of the Babylonian constellations Šinunutu4 \"the great swallow\" in current western Pisces, and Anunitum the \"Lady of the Heaven\" (supposedly Inanna), at the place of the northern fish.', 'In the first-millennium BC texts known as the Astronomical Diaries, part of the constellation was also called DU.', 'NU.NU (Rikis-nu.mi, \"the fish cord or ribbon\").', '=== Greco-Roman period ===', 'Pisces is associated with the Greek legend that Aphrodite and her son Eros either shape-shifted into forms of fishes to escape, or were rescued by two fishes.', 'In the Greek version according to Hyginus, Aphrodite and Eros while visiting Syria fled from the monster Typhon by leaping into the Euphrates River and transforming into fishes (Poeticon astronomicon 2.30, citing Diognetus Erythraeus).', 'The Roman variant of the story has Venus and Cupid (counterparts for Aphrodite and Eros) carried away from this danger on the backs of two fishes (Ovid Fasti 2.457ff).', 'There is also a different origin tale that Hyginus preserved in another work.']\n",
            "tensor([[0., 0., 0., 0., 0., 0., 0., 0., 1., 0.]])\n",
            "tensor([[0.0060, 0.0060, 0.0076, 0.0102, 0.0103, 0.0303, 0.1272, 0.3873, 0.3992,\n",
            "         0.0160]], device='cuda:0', grad_fn=<SoftmaxBackward0>)\n",
            "tensor([[6, 7, 8]], device='cuda:0')\n",
            "Where did Portuguese originate? ['Portuguese (português or, in full, língua portuguesa) is a western Romance language of the Indo-European language family, originating in the Iberian Peninsula of Europe.', 'It is an official language of Portugal, Brazil, Cape Verde, Angola, Mozambique, Guinea-Bissau and São Tomé and Príncipe, while having co-official language status in East Timor, Equatorial Guinea, and Macau.', 'A Portuguese-speaking person or nation is referred to as \"Lusophone\" (lusófono).', 'As the result of expansion during colonial times, a cultural presence of Portuguese speakers is also found around the world.', 'Portuguese is part of the Ibero-Romance group that evolved from several dialects of Vulgar Latin in the medieval Kingdom of Galicia and the County of Portugal, and has kept some Celtic phonology in its lexicon.', 'With approximately 250 million native speakers and 24 million L2 (second language) speakers, Portuguese has approximately 274 million total speakers.', 'It is usually listed as the sixth-most spoken language, the third-most spoken European language in the world in terms of native speakers and the second most spoken Romance language in the world, surpassed only by Spanish.', \"Being the most widely spoken language in South America and all of the Southern Hemisphere, it is also the second-most spoken language, after Spanish, in Latin America, one of the 10 most spoken languages in Africa, and an official language of the European Union, Mercosur, the Organization of American States, the Economic Community of West African States, the African Union, and the Community of Portuguese Language Countries, an international organization made up of all of the world's officially Lusophone nations.\", 'In 1997, a comprehensive academic study ranked Portuguese as one of the 10 most influential languages in the world.', '==. History ==.']\n",
            "tensor([[1., 0., 0., 0., 0., 0., 0., 0., 0., 0.]])\n",
            "tensor([[0.9724, 0.0047, 0.0017, 0.0042, 0.0023, 0.0026, 0.0040, 0.0052, 0.0010,\n",
            "         0.0020]], device='cuda:0', grad_fn=<SoftmaxBackward0>)\n",
            "tensor([[0]], device='cuda:0')\n",
            "What is the official language of Meghalaya? ['Meghalaya (, or , meaning \"abode of clouds\"; from Sanskrit megha, \"cloud\" + ā-laya, \"abode\") is a state in northeastern India.', 'Meghalaya was formed by carving out two districts from the state of Assam: the United Khasi Hills and Jaintia Hills, and the Garo Hills on 21 January 1972.', 'Meghalaya was previously part of Assam, but on 21 January 1972, the districts of Khasi, Garo and Jaintia Hills became the new state of Meghalaya.', 'The population of Meghalaya as of 2014 is estimated to be 3,211,474.', 'Meghalaya covers an area of approximately 22,430 square kilometres, with a length-to-breadth ratio of about 3:1.', \"The state is bound to the south by the Bangladeshi divisions of Mymensingh and Sylhet, to the west by the Bangladeshi division of Rangpur, and to the north and east by India's State of Assam.\", 'The capital of Meghalaya is Shillong.', 'During the British rule of India, the British imperial authorities nicknamed it the \"Scotland of the East\".', 'English is the official language of Meghalaya.', 'Unlike many Indian states, Meghalaya has historically followed a matrilineal system where the lineage and inheritance are traced through women; the youngest daughter inherits all wealth and she also takes care of her parents.']\n",
            "tensor([[0., 0., 0., 0., 0., 0., 0., 0., 1., 0.]])\n",
            "tensor([[0.0012, 0.0036, 0.0013, 0.0028, 0.0018, 0.0026, 0.0024, 0.0056, 0.9757,\n",
            "         0.0030]], device='cuda:0', grad_fn=<SoftmaxBackward0>)\n",
            "tensor([[8]], device='cuda:0')\n",
            "Which was the longest dynastic regime in Chinese history? ['The Zhou dynasty (Chinese: 周; pinyin: Zhōu [ʈʂóʊ]; Old Chinese (B&S): *tiw) was a royal dynasty of China that followed the Shang dynasty.', 'Having lasted 789 years, the Zhou dynasty was the longest dynastic regime in Chinese history.', 'The military control of China by the royal house, surnamed Ji, lasted initially from 1046 until 771 BC for a period known as the Western Zhou, and the political sphere of influence it created continued well into the Eastern Zhou period for another 500 years.', 'The establishment date of 1046 BC is supported by the Xia–Shang–Zhou Chronology Project and David Pankenier, but David Nivison and Edward L. Shaughnessy date the establishment to 1045 BC.', 'During the Zhou dynasty, centralized power decreased throughout the Spring and Autumn period until the Warring States period in the last two centuries of the dynasty.', 'In the latter period, the Zhou court had little control over its constituent states that were at war with each other until the Qin state consolidated power and formed the Qin dynasty in 221 BC.', 'The Zhou dynasty had formally collapsed only 35 years earlier, although the dynasty had only nominal power at that point.', 'This period of Chinese history produced what many consider the zenith of Chinese bronzeware making.', 'The latter period of the Zhou dynasty is also famous for the beginnings of three major Chinese philosophies: Confucianism, Taoism and Legalism.', 'The Zhou dynasty also spans the period in which the written script evolved from the oracle script and bronze script into the seal script, and then finally into an almost-modern form with the use of an archaic clerical script that emerged during the late Warring States period.']\n",
            "tensor([[0., 1., 0., 0., 0., 0., 0., 0., 0., 0.]])\n",
            "tensor([[0.0051, 0.9628, 0.0039, 0.0020, 0.0071, 0.0031, 0.0042, 0.0042, 0.0038,\n",
            "         0.0038]], device='cuda:0', grad_fn=<SoftmaxBackward0>)\n",
            "tensor([[1]], device='cuda:0')\n",
            "When is Hindi Day? [\"The committee's report was released in 1958 as A Basic Grammar of Modern Hindi.\", 'standardisation of the orthography, using the Devanagari script, by the Central Hindi Directorate of the Ministry of Education and Culture to bring about uniformity in writing, to improve the shape of some Devanagari characters, and introducing diacritics to express sounds from other languages.', \"On 14 September 1949, the Constituent Assembly of India adopted Hindi written in the Devanagari script as the official language of the Republic of India replacing Urdu's previous usage in British India.\", 'To this end, several stalwarts rallied and lobbied pan-India in favour of Hindi, most notably Beohar Rajendra Simha along with Hazari Prasad Dwivedi, Kaka Kalelkar, Maithili Sharan Gupt and Seth Govind Das who even debated in Parliament on this issue.', 'As such, on the 50th birthday of Beohar Rajendra Simha on 14 September 1949, the efforts came to fruition following the adoption of Hindi as the official language.', 'Now, it is celebrated as Hindi Day.', '== Official status ==', '=== India ===', 'Part XVII of the Indian Constitution deals with the official language of the Indian Commonwealth.', 'Under Article 343, the official languages of the Union have been prescribed, which includes Hindi in Devanagari script and English:']\n",
            "tensor([[0., 0., 0., 0., 1., 1., 0., 0., 0., 0.]])\n",
            "tensor([[0.0080, 0.0088, 0.0107, 0.0113, 0.4039, 0.5132, 0.0116, 0.0147, 0.0133,\n",
            "         0.0046]], device='cuda:0', grad_fn=<SoftmaxBackward0>)\n",
            "tensor([[4, 5]], device='cuda:0')\n",
            "What is the proper name of Beta Aquarii? ['It also has the proper name of Sadalsuud.', \"Having cooled and swollen to around 50 times the Sun's diameter, it is around 2200 times as luminous as the Sun.\", 'It is around 6.4 times as massive as the Sun and around 56 million years old.', 'Sadalsuud is 540 ± 20 light-years from Earth.', 'Alpha Aquarii, also known as Sadalmelik, has an apparent magnitude of 2.94.', 'It is 520 ± 20 light-years distant from Earth, and is around 6.5 times as massive as the Sun and 3000 times as luminous.', 'It is 53 million years old.γ', \"Aquarii, also called Sadachbia, is a white main sequence star of spectral type star of spectral type A0V that is between 158 and 315 million years old and is around two and a half times the Sun's mass, and double its radius.\", 'Of magnitude 3.85, it is 164 ± 9 light years away.', 'It has a luminosity of 50 L☉.']\n",
            "tensor([[1., 0., 0., 0., 0., 0., 0., 0., 0., 0.]])\n",
            "tensor([[0.2207, 0.3624, 0.3462, 0.0148, 0.0099, 0.0086, 0.0100, 0.0097, 0.0076,\n",
            "         0.0102]], device='cuda:0', grad_fn=<SoftmaxBackward0>)\n",
            "tensor([[0, 1, 2]], device='cuda:0')\n",
            "What is a Portuguese-speaking person or nation is referred to as? ['Portuguese (português or, in full, língua portuguesa) is a western Romance language of the Indo-European language family, originating in the Iberian Peninsula of Europe.', 'It is an official language of Portugal, Brazil, Cape Verde, Angola, Mozambique, Guinea-Bissau and São Tomé and Príncipe, while having co-official language status in East Timor, Equatorial Guinea, and Macau.', 'A Portuguese-speaking person or nation is referred to as \"Lusophone\" (lusófono).', 'As the result of expansion during colonial times, a cultural presence of Portuguese speakers is also found around the world.', 'Portuguese is part of the Ibero-Romance group that evolved from several dialects of Vulgar Latin in the medieval Kingdom of Galicia and the County of Portugal, and has kept some Celtic phonology in its lexicon.', 'With approximately 250 million native speakers and 24 million L2 (second language) speakers, Portuguese has approximately 274 million total speakers.', 'It is usually listed as the sixth-most spoken language, the third-most spoken European language in the world in terms of native speakers and the second most spoken Romance language in the world, surpassed only by Spanish.', \"Being the most widely spoken language in South America and all of the Southern Hemisphere, it is also the second-most spoken language, after Spanish, in Latin America, one of the 10 most spoken languages in Africa, and an official language of the European Union, Mercosur, the Organization of American States, the Economic Community of West African States, the African Union, and the Community of Portuguese Language Countries, an international organization made up of all of the world's officially Lusophone nations.\", 'In 1997, a comprehensive academic study ranked Portuguese as one of the 10 most influential languages in the world.', '== History ==']\n",
            "tensor([[0., 0., 1., 0., 0., 0., 0., 0., 0., 0.]])\n",
            "tensor([[0.0481, 0.3638, 0.5292, 0.0097, 0.0127, 0.0077, 0.0068, 0.0074, 0.0062,\n",
            "         0.0083]], device='cuda:0', grad_fn=<SoftmaxBackward0>)\n",
            "tensor([[1, 2]], device='cuda:0')\n",
            "What was Eevee originally going to be named? ['According to Fujiwara, he \"wanted to create a blank slate Pokémon.\"', 'Drawing upon his vague childhood memories, including an instance where he became lost in a forest and \"encountered an indefiniable creature,\" Fujiwara would go on to create the early design for Eevee, which he likened to \"a fluffy cat or dog-like creature one would see in the country.', '\"', 'In the original Japanese games, the Pokémon was called Eievui, a name which has similar prefixes to its current English name.', 'However, before the English versions of the games were released, Eevee was originally going to be named Eon rather than Eevee.', 'It was renamed to \"Eevee\" shortly before the English releases of Pokémon Red and Blue.', 'According to the Pokémon video games, Eevee is a mammalian creature with brown fur, a bushy tail that has a cream-colored tip, and a furry collar that is also cream-colored.', 'Eevee has brown eyes, big ears, and pink paw pads.', 'Eevee is said to have an irregularly shaped genetic structure, enabling it to evolve into multiple Pokémon.', 'Eevee are quite rare in the games, but are canonically able to live almost anywhere, as they may evolve to suit their surroundings.']\n",
            "tensor([[0., 0., 0., 0., 1., 0., 0., 0., 0., 0.]])\n",
            "tensor([[0.0096, 0.0098, 0.0101, 0.0133, 0.5213, 0.3951, 0.0099, 0.0140, 0.0126,\n",
            "         0.0041]], device='cuda:0', grad_fn=<SoftmaxBackward0>)\n",
            "tensor([[4, 5]], device='cuda:0')\n",
            "In the first-millennium BC texts known as the Astronomical Diaries, was part of Pisces called DU.NU.NU? ['The cluster is primarily made up of yellow elliptical and spiral galaxies, at a distance of 3.6 billion light-years from Earth (redshift 0.4), half as far away as the background galaxy, which is at a distance of 5.7 billion light-years (redshift 1.67).', '== History and mythology ==', 'Pisces originates from some composition of the Babylonian constellations Šinunutu4 \"the great swallow\" in current western Pisces, and Anunitum the \"Lady of the Heaven\" (supposedly Inanna), at the place of the northern fish.', 'In the first-millennium BC texts known as the Astronomical Diaries, part of the constellation was also called DU.', 'NU.NU (Rikis-nu.mi, \"the fish cord or ribbon\").', '=== Greco-Roman period ===', 'Pisces is associated with the Greek legend that Aphrodite and her son Eros either shape-shifted into forms of fishes to escape, or were rescued by two fishes.', 'In the Greek version according to Hyginus, Aphrodite and Eros while visiting Syria fled from the monster Typhon by leaping into the Euphrates River and transforming into fishes (Poeticon astronomicon 2.30, citing Diognetus Erythraeus).', 'The Roman variant of the story has Venus and Cupid (counterparts for Aphrodite and Eros) carried away from this danger on the backs of two fishes (Ovid Fasti 2.457ff).', 'There is also a different origin tale that Hyginus preserved in another work.']\n",
            "tensor([[0., 0., 0., 1., 1., 0., 0., 0., 0., 0.]])\n",
            "tensor([[0.0158, 0.0102, 0.0083, 0.5792, 0.3472, 0.0084, 0.0073, 0.0068, 0.0117,\n",
            "         0.0051]], device='cuda:0', grad_fn=<SoftmaxBackward0>)\n",
            "tensor([[3, 4]], device='cuda:0')\n",
            "What is the relation between Castor and Pollux in Greek mythology? ['Although the characters of myth are twins, the actual stars are physically very different from each other.', 'α Gem (Castor) is a sextuple star system 52 light-years from Earth, which appears as a magnitude 1.6 blue-white star to the unaided eye.', 'Two spectroscopic binaries are visible at magnitudes 1.9 and 3.0 with a period of 470 years.', 'A wide-set red dwarf star is also a part of the system; this star is an Algol-type eclipsing binary star with a period of 19.5 hours; its minimum magnitude is 9.8 and its maximum magnitude is 9.3.', 'β Gem (Pollux) is an orange-hued giant star of magnitude 1.14, 34 light-years from Earth.', 'Pollux has an extrasolar planet revolving around it, as do two other stars in Gemini, HD 50554, and HD 59686.', 'γ Gem (Alhena) is a blue-white hued star of magnitude 1.9, 105 light-years from Earth.', 'δ Gem (Wasat) is a long-period binary star 59 light-years from Earth.', 'The primary is a white star of magnitude 3.5, and the secondary is an orange dwarf star of magnitude 8.2.', 'The period is over 1000 years; it is divisible in medium amateur telescopes.']\n",
            "tensor([[0., 1., 0., 0., 0., 0., 0., 0., 0., 0.]])\n",
            "tensor([[0.0054, 0.9633, 0.0031, 0.0020, 0.0071, 0.0030, 0.0045, 0.0043, 0.0038,\n",
            "         0.0035]], device='cuda:0', grad_fn=<SoftmaxBackward0>)\n",
            "tensor([[1]], device='cuda:0')\n",
            "What is the state animal of Kerala? ['In Malayalam literature, elephants are referred to as the \"sons of the sahya\".', 'The elephant is the state animal of Kerala and is featured on the emblem of the Government of Kerala.', '== Media ==', 'The media, telecommunications, broadcasting and cable services are regulated by the Telecom Regulatory Authority of India (TRAI).', 'The National Family Health Survey – 4, conducted in 2015–16, ranked Kerala as the state with the highest media exposure in India.', 'Dozens of newspapers are published in Kerala, in nine major languages, but principally Malayalam and English.', 'Kerala has the highest media exposure in India.', 'The most widely circulated Malayalam-language newspapers are Malayala Manorama, Mathrubhumi, Deshabhimani, Madhyamam, Kerala Kaumudi, Mangalam, Chandrika, Deepika, Janayugam, Janmabhumi, Siraj Daily and Suprabhaatham.', 'Major Malayalam periodicals include Mathrubhumi Azhchappathippu, Vanitha, India Today Malayalam, Madhyamam Weekly, Grihalakshmi, Dhanam, Chithrabhumi and Bhashaposhini.', 'The Hindu is the most read English language newspaper in the state, followed by The New Indian Express.']\n",
            "tensor([[0., 1., 0., 0., 0., 0., 0., 0., 0., 0.]])\n",
            "tensor([[0.0049, 0.9636, 0.0033, 0.0019, 0.0070, 0.0030, 0.0043, 0.0046, 0.0038,\n",
            "         0.0036]], device='cuda:0', grad_fn=<SoftmaxBackward0>)\n",
            "tensor([[1]], device='cuda:0')\n",
            "When was the Maratha Navy disbanded? ['The Marathas under the Peshwas, Bhonsale of Nagpur, Gaekwad of Baroda, Holkar of Indore, Scindia of Gwalior and Puars of Dewas and Dhar defeated the Mughals and conquered large territories in the northern and central parts of the Indian subcontinent.', 'At its peak, the Maratha empire covered much of the subcontinent, encompassing a territory of over 2.8 million km2.', 'The Marathas are credited to a large extent for ending the Mughal rule in India.', \"After their defeat at the hand of Ahmad Shah Abdali's Afghan forces in the Third Battle of Panipat in 1761, the Maratha suffered a setback.\", 'However, they soon reclaimed the lost territories and ruled central and north India including New Delhi until the end of the eighteenth century.', 'The Third Anglo-Maratha War (1817–1818) led to the end of the Maratha Empire and the East India Company took over the empire.', 'The Marathas also developed a potent Navy circa in the 1660s, which at its peak, dominated the territorial waters of the western coast of India from Mumbai to Savantwadi.', 'It resisted the British, Portuguese, Dutch, and Siddi naval ships and kept a check on their naval ambitions.', 'The Maratha Navy dominated till around the 1730s, was in a state of decline by the 1770s and ceased to exist by 1818.', 'India contains no more than two great powers, British and Maratha, and every other state acknowledges the influence of one or the other.']\n",
            "tensor([[0., 0., 0., 0., 0., 0., 0., 0., 1., 0.]])\n",
            "tensor([[0.0124, 0.0055, 0.0049, 0.0135, 0.0106, 0.0632, 0.5044, 0.2439, 0.1274,\n",
            "         0.0142]], device='cuda:0', grad_fn=<SoftmaxBackward0>)\n",
            "tensor([[6, 7, 8]], device='cuda:0')\n"
          ]
        }
      ],
      "source": [
        "#sentenceDetection.eval()\n",
        "for index, ((question, sentences), (data, label)) in enumerate(sentenceDetection.test_dataset):\n",
        "    test_out = sentenceDetection(data)\n",
        "    print(question, sentences)\n",
        "    print(label)\n",
        "    print(test_out)\n",
        "    print((test_out[0] > 0.1).nonzero().reshape(1, (test_out[0] > 0.1).nonzero().shape[0]))\n",
        "    "
      ]
    },
    {
      "cell_type": "code",
      "source": [
        "PATH = \"Model_plain_3_hidden_layer_9_epochs_dict_Try1.pt\"\n",
        "torch.save(sentenceDetection.state_dict(), PATH)\n"
      ],
      "metadata": {
        "id": "uyYNzDYcY00m"
      },
      "execution_count": 57,
      "outputs": []
    },
    {
      "cell_type": "code",
      "source": [
        "test_data_1 = (\"What is the world's most influential language?\", [\"Given the demographic prospects of the French-speaking nations of Africa, researcher Pascal-Emmanuel Gobry wrote in 2014 that French \\\"could be the language of the future\\\".\",\n",
        "\"Significant as a judicial language, French is one of the official languages of such major international and regional courts, tribunals, and dispute-settlement bodies as the African Court on Human and Peoples' Rights, the Caribbean Court of Justice, the Court of Justice for the Economic Community of West African States, the Inter-American Court of Human Rights, the International Court of Justice, the International Criminal Tribunal for the former Yugoslavia, International Criminal Tribunal for Rwanda, the International Tribunal for the Law of the Sea the International Criminal Court and the World Trade Organization Appellate Body.\",\n",
        "\"It is the sole internal working language of the Court of Justice of the European Union, and makes with English the European Court of Human Rights's two working languages.\",\n",
        "\"In 1997, George Weber published, in Language Today, a comprehensive academic study entitled \\\"The World's 10 most influential languages\\\".\",\n",
        "\"In the article, Weber ranked French as, after English, the second most influential language of the world, ahead of Spanish.\",\n",
        "\"His criteria were the numbers of native speakers, the number of secondary speakers (especially high for French among fellow world languages), the number of countries using the language and their respective populations, the economic power of the countries using the language, the number of major areas in which the language is used, and the linguistic prestige associated with the mastery of the language (Weber highlighted that French in particular enjoys considerable linguistic prestige).\",\n",
        "\"In a 2008 reassessment of his article, Weber concluded that his findings were still correct since \\\"the situation among the top ten remains unchanged.\",\n",
        "\"\\\"Knowledge of French is often considered to be a useful skill by business owners in the United Kingdom; a 2014 study found that 50% of British managers considered French to be a valuable asset for their business, thus ranking French as the most sought-after foreign language there, ahead of German (49%) and Spanish (44%).\",\n",
        "\"MIT economist Albert Saiz calculated a 2.3% premium for those who have French as a foreign language in the workplace.\",\n",
        "\"In English-speaking Canada, the United Kingdom, and the Republic of Ireland, French is the first foreign language taught and in number of pupils is far ahead of other languages.\"])"
      ],
      "metadata": {
        "id": "ifWuxK9_SZVp"
      },
      "execution_count": 43,
      "outputs": []
    },
    {
      "cell_type": "code",
      "source": [
        "test_data_2 = (sentenceDetection.tokenize_sentences(test_data_1[1], test_data_1[0]), torch.tensor([[0,0,0,0,0,0,0,0,1,0]]))\n",
        "test_data_single = (test_data_1, test_data_2)\n"
      ],
      "metadata": {
        "id": "KBtjsdGQUXBF"
      },
      "execution_count": 44,
      "outputs": []
    },
    {
      "cell_type": "code",
      "source": [
        "sentenceDetection.eval()\n",
        "t = sentenceDetection(test_data_single[1][0])\n",
        "print(t)\n",
        "print((t[0] > 0.1).nonzero().reshape(1, (t[0] > 0.1).nonzero().shape[0]))"
      ],
      "metadata": {
        "colab": {
          "base_uri": "https://localhost:8080/"
        },
        "id": "0gWy5eADU-Jx",
        "outputId": "6cea48ff-78c9-4296-f31b-57334df8a20c"
      },
      "execution_count": 93,
      "outputs": [
        {
          "output_type": "stream",
          "name": "stdout",
          "text": [
            "tensor([[0.0048, 0.0024, 0.0030, 0.9652, 0.0053, 0.0034, 0.0040, 0.0037, 0.0065,\n",
            "         0.0019]], device='cuda:0', grad_fn=<SoftmaxBackward0>)\n",
            "tensor([[3]], device='cuda:0')\n"
          ]
        }
      ]
    }
  ],
  "metadata": {
    "accelerator": "GPU",
    "colab": {
      "collapsed_sections": [],
      "provenance": []
    },
    "kernelspec": {
      "display_name": "Python 3",
      "name": "python3"
    },
    "language_info": {
      "name": "python"
    }
  },
  "nbformat": 4,
  "nbformat_minor": 0
}